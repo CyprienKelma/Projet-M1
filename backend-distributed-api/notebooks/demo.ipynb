{
 "cells": [
  {
   "cell_type": "code",
   "execution_count": 58,
   "id": "16690f45",
   "metadata": {},
   "outputs": [
    {
     "name": "stdout",
     "output_type": "stream",
     "text": [
      "Status Code: 200\n",
      "Response JSON: {'status': 'ok', 'info': {}, 'error': {}, 'details': {}}\n"
     ]
    }
   ],
   "source": [
    "from IPython.display import display, Markdown\n",
    "import requests\n",
    "from tabulate import tabulate\n",
    "\n",
    "# Change this to your API base URL\n",
    "API_BASE = \"http://projet.bafbi.fr:32146\"\n",
    "\n",
    "def print_section(title):\n",
    "    display(Markdown(f\"### 🔹 {title}\"))\n",
    "\n",
    "def print_result(response):\n",
    "    print(\"Status Code:\", response.status_code)\n",
    "    try:\n",
    "        print(\"Response JSON:\", response.json())\n",
    "    except Exception as e:\n",
    "        print(\"Error reading JSON:\", str(e))\n",
    "        \n",
    "def print_table_result(response):\n",
    "    try:\n",
    "        data = response.json()\n",
    "        if isinstance(data, list):\n",
    "            # If the response is a list of dictionaries, display as a table\n",
    "            if data and isinstance(data[0], dict):\n",
    "                headers = data[0].keys()\n",
    "                rows = [item.values() for item in data]\n",
    "                table = tabulate(rows, headers=headers, tablefmt=\"grid\")\n",
    "                print(table)\n",
    "            else:\n",
    "                print(\"Response is a list but not of dictionaries:\", data)\n",
    "        elif isinstance(data, dict):\n",
    "            # If the response is a single dictionary, display key-value pairs\n",
    "            table = tabulate(data.items(), headers=[\"Key\", \"Value\"], tablefmt=\"grid\")\n",
    "            print(table)\n",
    "        else:\n",
    "            print(\"Response JSON:\", data)\n",
    "    except Exception as e:\n",
    "        print(\"Error reading JSON:\", str(e))\n",
    "        \n",
    "print_result(requests.get(f\"{API_BASE}/health\"))"
   ]
  },
  {
   "cell_type": "code",
   "execution_count": 40,
   "id": "1dab6cc3",
   "metadata": {},
   "outputs": [
    {
     "data": {
      "text/markdown": [
       "### 🔹 Reset and Seed Users"
      ],
      "text/plain": [
       "<IPython.core.display.Markdown object>"
      ]
     },
     "metadata": {},
     "output_type": "display_data"
    },
    {
     "name": "stdout",
     "output_type": "stream",
     "text": [
      "Status Code: 201\n",
      "Response JSON: [{'firstName': 'Queen', 'lastName': 'Doyle', 'email': 'Minerva25@yahoo.com', 'password': 'Fon6HpBZUBe90Bz', 'id': 23}, {'firstName': 'Harmony', 'lastName': 'Cummerata', 'email': 'Kaylin.Bosco67@hotmail.com', 'password': '68e7qTWLEecEnHr', 'id': 24}, {'firstName': 'Rupert', 'lastName': 'VonRueden', 'email': 'Ross_Rutherford@yahoo.com', 'password': 'O2Lzb3A4YbtdCas', 'id': 25}]\n"
     ]
    }
   ],
   "source": [
    "# 🔹 1. Reset & Seed Users\n",
    "print_section(\"Reset and Seed Users\")\n",
    "r1 = requests.post(f\"{API_BASE}/users/reset\")\n",
    "r2 = requests.post(f\"{API_BASE}/users/seed\", json={\"count\": 3})\n",
    "print_result(r2)"
   ]
  },
  {
   "cell_type": "code",
   "execution_count": 59,
   "id": "8eac82fc",
   "metadata": {},
   "outputs": [
    {
     "data": {
      "text/markdown": [
       "### 🔹 Fetch All Users"
      ],
      "text/plain": [
       "<IPython.core.display.Markdown object>"
      ]
     },
     "metadata": {},
     "output_type": "display_data"
    },
    {
     "name": "stdout",
     "output_type": "stream",
     "text": [
      "+------+-------------+------------+----------------------------+-----------------+\n",
      "|   id | firstName   | lastName   | email                      | password        |\n",
      "+======+=============+============+============================+=================+\n",
      "|   23 | Queen       | Doyle      | Minerva25@yahoo.com        | Fon6HpBZUBe90Bz |\n",
      "+------+-------------+------------+----------------------------+-----------------+\n",
      "|   24 | Harmony     | Cummerata  | Kaylin.Bosco67@hotmail.com | 68e7qTWLEecEnHr |\n",
      "+------+-------------+------------+----------------------------+-----------------+\n",
      "|   25 | Rupert      | VonRueden  | Ross_Rutherford@yahoo.com  | O2Lzb3A4YbtdCas |\n",
      "+------+-------------+------------+----------------------------+-----------------+\n",
      "|   26 | Nels        | Heaney     | Dulce_Robel@hotmail.com    | RyeMlyx1VVozDvI |\n",
      "+------+-------------+------------+----------------------------+-----------------+\n",
      "|   27 | Wendell     | Hyatt      | Idell_Fisher@gmail.com     | 7vWEDABK7FUD2j8 |\n",
      "+------+-------------+------------+----------------------------+-----------------+\n"
     ]
    }
   ],
   "source": [
    "# 🔹 2. Fetch all users\n",
    "print_section(\"Fetch All Users\")\n",
    "r3 = requests.get(f\"{API_BASE}/users\")\n",
    "print_table_result(r3)"
   ]
  },
  {
   "cell_type": "code",
   "execution_count": 42,
   "id": "1678a5ab",
   "metadata": {},
   "outputs": [
    {
     "data": {
      "text/markdown": [
       "### 🔹 Reset and Seed Groups"
      ],
      "text/plain": [
       "<IPython.core.display.Markdown object>"
      ]
     },
     "metadata": {},
     "output_type": "display_data"
    },
    {
     "name": "stdout",
     "output_type": "stream",
     "text": [
      "<Response [201]>\n",
      "Status Code: 201\n",
      "Response JSON: {'name': 'King Group', 'description': 'Networked AI-powered toolset', 'users': [{'firstName': 'Nels', 'lastName': 'Heaney', 'email': 'Dulce_Robel@hotmail.com', 'password': 'RyeMlyx1VVozDvI', 'id': 26}, {'firstName': 'Wendell', 'lastName': 'Hyatt', 'email': 'Idell_Fisher@gmail.com', 'password': '7vWEDABK7FUD2j8', 'id': 27}], 'id': 6}\n"
     ]
    }
   ],
   "source": [
    "# 🔹 3. Reset and Seed Groups\n",
    "print_section(\"Reset and Seed Groups\")\n",
    "r4 = requests.post(f\"{API_BASE}/groups/reset\")\n",
    "print(r4)\n",
    "r5 = requests.post(f\"{API_BASE}/groups/seed\", json={\"groupCount\": 2, \"usersPerGroup\": 2})\n",
    "print_result(r5)"
   ]
  },
  {
   "cell_type": "code",
   "execution_count": 60,
   "id": "decc8eef",
   "metadata": {},
   "outputs": [
    {
     "data": {
      "text/markdown": [
       "### 🔹 Fetch All Groups"
      ],
      "text/plain": [
       "<IPython.core.display.Markdown object>"
      ]
     },
     "metadata": {},
     "output_type": "display_data"
    },
    {
     "name": "stdout",
     "output_type": "stream",
     "text": [
      "+------+------------+------------------------------+-------------------------------------------------------------------------------------------------------------------------------------------------------------------------------------------------------------------------------------------------------+\n",
      "|   id | name       | description                  | users                                                                                                                                                                                                                                                 |\n",
      "+======+============+==============================+=======================================================================================================================================================================================================================================================+\n",
      "|    6 | King Group | Networked AI-powered toolset | [{'id': 26, 'firstName': 'Nels', 'lastName': 'Heaney', 'email': 'Dulce_Robel@hotmail.com', 'password': 'RyeMlyx1VVozDvI'}, {'id': 27, 'firstName': 'Wendell', 'lastName': 'Hyatt', 'email': 'Idell_Fisher@gmail.com', 'password': '7vWEDABK7FUD2j8'}] |\n",
      "+------+------------+------------------------------+-------------------------------------------------------------------------------------------------------------------------------------------------------------------------------------------------------------------------------------------------------+\n"
     ]
    }
   ],
   "source": [
    "# 🔹 4. Fetch All Groups\n",
    "print_section(\"Fetch All Groups\")\n",
    "r6 = requests.get(f\"{API_BASE}/groups\")\n",
    "print_table_result(r6)"
   ]
  },
  {
   "cell_type": "code",
   "execution_count": 44,
   "id": "1a508071",
   "metadata": {},
   "outputs": [
    {
     "data": {
      "text/markdown": [
       "### 🔹 Reset and Seed Notifications"
      ],
      "text/plain": [
       "<IPython.core.display.Markdown object>"
      ]
     },
     "metadata": {},
     "output_type": "display_data"
    },
    {
     "name": "stdout",
     "output_type": "stream",
     "text": [
      "Status Code: 201\n",
      "Error reading JSON: Expecting value: line 1 column 1 (char 0)\n"
     ]
    }
   ],
   "source": [
    "# 🔹 5. Reset and Seed Notifications\n",
    "print_section(\"Reset and Seed Notifications\")\n",
    "r7 = requests.post(f\"{API_BASE}/notifications/reset\")\n",
    "r8 = requests.post(f\"{API_BASE}/notifications/seed\", json={\"userId\": 1, \"count\": 3})\n",
    "print_result(r8)"
   ]
  },
  {
   "cell_type": "code",
   "execution_count": 61,
   "id": "866eb365",
   "metadata": {},
   "outputs": [
    {
     "data": {
      "text/markdown": [
       "### 🔹 Get Notifications for User 1"
      ],
      "text/plain": [
       "<IPython.core.display.Markdown object>"
      ]
     },
     "metadata": {},
     "output_type": "display_data"
    },
    {
     "name": "stdout",
     "output_type": "stream",
     "text": [
      "+-----------+-------------------+--------+---------------------------+--------+--------------------------+\n",
      "|   user_id | notification_id   | type   | message                   | read   | created_at               |\n",
      "+===========+===================+========+===========================+========+==========================+\n",
      "|         1 | 1-2               | Type 3 | Notification 3 for user 1 | False  | 2025-04-15T12:26:18.401Z |\n",
      "+-----------+-------------------+--------+---------------------------+--------+--------------------------+\n",
      "|         1 | 1-1               | Type 1 | Notification 2 for user 1 | True   | 2025-04-15T12:26:18.399Z |\n",
      "+-----------+-------------------+--------+---------------------------+--------+--------------------------+\n",
      "|         1 | 1-0               | Type 3 | Notification 1 for user 1 | False  | 2025-04-15T12:26:18.396Z |\n",
      "+-----------+-------------------+--------+---------------------------+--------+--------------------------+\n"
     ]
    }
   ],
   "source": [
    "# 🔹 6. Get Notifications for user 1\n",
    "print_section(\"Get Notifications for User 1\")\n",
    "r9 = requests.get(f\"{API_BASE}/notifications/1\")\n",
    "print_table_result(r9)"
   ]
  },
  {
   "cell_type": "code",
   "execution_count": 46,
   "id": "a81cba17",
   "metadata": {},
   "outputs": [
    {
     "data": {
      "text/markdown": [
       "### 🔹 Reset and Seed Messages"
      ],
      "text/plain": [
       "<IPython.core.display.Markdown object>"
      ]
     },
     "metadata": {},
     "output_type": "display_data"
    },
    {
     "name": "stdout",
     "output_type": "stream",
     "text": [
      "Status Code: 201\n",
      "Error reading JSON: Expecting value: line 1 column 1 (char 0)\n"
     ]
    }
   ],
   "source": [
    "# 🔹 7. Reset and Seed Messages\n",
    "print_section(\"Reset and Seed Messages\")\n",
    "conversation_id = \"conv-123\"\n",
    "r10 = requests.post(f\"{API_BASE}/messages/reset\")\n",
    "r11 = requests.post(f\"{API_BASE}/messages/seed\", json={\"conversationId\": conversation_id, \"count\": 4})\n",
    "print_result(r11)"
   ]
  },
  {
   "cell_type": "code",
   "execution_count": 62,
   "id": "a46398a2",
   "metadata": {},
   "outputs": [
    {
     "data": {
      "text/markdown": [
       "### 🔹 Get Messages from conversation"
      ],
      "text/plain": [
       "<IPython.core.display.Markdown object>"
      ]
     },
     "metadata": {},
     "output_type": "display_data"
    },
    {
     "name": "stdout",
     "output_type": "stream",
     "text": [
      "+-------------------+--------------+-------------+------------------------------------+--------------------------+\n",
      "| conversation_id   | message_id   |   sender_id | content                            | created_at               |\n",
      "+===================+==============+=============+====================================+==========================+\n",
      "| conv-123          | conv-123-0   |          23 | Message 1 in conversation conv-123 | 2025-04-15T12:26:18.799Z |\n",
      "+-------------------+--------------+-------------+------------------------------------+--------------------------+\n",
      "| conv-123          | conv-123-1   |          50 | Message 2 in conversation conv-123 | 2025-04-15T12:26:18.802Z |\n",
      "+-------------------+--------------+-------------+------------------------------------+--------------------------+\n",
      "| conv-123          | conv-123-2   |          81 | Message 3 in conversation conv-123 | 2025-04-15T12:26:18.803Z |\n",
      "+-------------------+--------------+-------------+------------------------------------+--------------------------+\n",
      "| conv-123          | conv-123-3   |          19 | Message 4 in conversation conv-123 | 2025-04-15T12:26:18.804Z |\n",
      "+-------------------+--------------+-------------+------------------------------------+--------------------------+\n"
     ]
    }
   ],
   "source": [
    "# 🔹 8. Get Messages from conversation\n",
    "print_section(\"Get Messages from conversation\")\n",
    "r12 = requests.get(f\"{API_BASE}/messages/{conversation_id}\")\n",
    "print_table_result(r12)"
   ]
  }
 ],
 "metadata": {
  "kernelspec": {
   "display_name": "venv",
   "language": "python",
   "name": "python3"
  },
  "language_info": {
   "codemirror_mode": {
    "name": "ipython",
    "version": 3
   },
   "file_extension": ".py",
   "mimetype": "text/x-python",
   "name": "python",
   "nbconvert_exporter": "python",
   "pygments_lexer": "ipython3",
   "version": "3.13.2"
  }
 },
 "nbformat": 4,
 "nbformat_minor": 5
}
