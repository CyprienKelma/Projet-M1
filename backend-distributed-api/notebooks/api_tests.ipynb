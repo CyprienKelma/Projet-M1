{
  "cells": [
    {
      "cell_type": "markdown",
      "id": "b59dfeef",
      "metadata": {},
      "source": [
        "# Advanced Backend API Testing and Comprehensive Data Analysis\n",
        "\n",
        "This Jupyter Notebook extensively tests and analyzes the REST API built with NestJS and its integration with multiple databases:\n",
        "\n",
        "- **PostgreSQL** (relational data: users, groups)\n",
        "- **Cassandra** (messages, notifications)\n",
        "- **Redis** (cache performance)\n",
        "- **Neo4j** (user relationships)\n",
        "- **Storage Bucket** (file uploads)\n",
        "\n",
        "### Objectives:\n",
        "- Verify database connectivity and API responses.\n",
        "- Generate and validate fake data.\n",
        "- Perform detailed performance analysis.\n",
        "- Confirm integration across all databases."
      ]
    },
    {
      "cell_type": "code",
      "execution_count": 1,
      "id": "1ae39c5f",
      "metadata": {},
      "outputs": [
        {
          "name": "stdout",
          "output_type": "stream",
          "text": [
            "Collecting requests\n",
            "  Using cached requests-2.32.3-py3-none-any.whl.metadata (4.6 kB)\n",
            "Collecting pandas\n",
            "  Using cached pandas-2.2.3-cp312-cp312-macosx_11_0_arm64.whl.metadata (89 kB)\n",
            "Collecting matplotlib\n",
            "  Downloading matplotlib-3.10.1-cp312-cp312-macosx_11_0_arm64.whl.metadata (11 kB)\n",
            "Collecting seaborn\n",
            "  Downloading seaborn-0.13.2-py3-none-any.whl.metadata (5.4 kB)\n",
            "Collecting faker\n",
            "  Downloading faker-37.1.0-py3-none-any.whl.metadata (15 kB)\n",
            "Collecting psycopg2-binary\n",
            "  Downloading psycopg2_binary-2.9.10-cp312-cp312-macosx_14_0_arm64.whl.metadata (4.9 kB)\n",
            "Collecting neo4j\n",
            "  Downloading neo4j-5.28.1-py3-none-any.whl.metadata (5.9 kB)\n",
            "Collecting redis\n",
            "  Downloading redis-5.2.1-py3-none-any.whl.metadata (9.1 kB)\n",
            "Collecting boto3\n",
            "  Downloading boto3-1.37.30-py3-none-any.whl.metadata (6.7 kB)\n",
            "Collecting charset-normalizer<4,>=2 (from requests)\n",
            "  Using cached charset_normalizer-3.4.1-cp312-cp312-macosx_10_13_universal2.whl.metadata (35 kB)\n",
            "Collecting idna<4,>=2.5 (from requests)\n",
            "  Using cached idna-3.10-py3-none-any.whl.metadata (10 kB)\n",
            "Collecting urllib3<3,>=1.21.1 (from requests)\n",
            "  Using cached urllib3-2.3.0-py3-none-any.whl.metadata (6.5 kB)\n",
            "Collecting certifi>=2017.4.17 (from requests)\n",
            "  Using cached certifi-2025.1.31-py3-none-any.whl.metadata (2.5 kB)\n",
            "Collecting numpy>=1.26.0 (from pandas)\n",
            "  Downloading numpy-2.2.4-cp312-cp312-macosx_14_0_arm64.whl.metadata (62 kB)\n",
            "\u001b[2K     \u001b[38;2;114;156;31m━━━━━━━━━━━━━━━━━━━━━━━━━━━━━━━━━━━━━━━━\u001b[0m \u001b[32m62.0/62.0 kB\u001b[0m \u001b[31m2.8 MB/s\u001b[0m eta \u001b[36m0:00:00\u001b[0m\n",
            "\u001b[?25hRequirement already satisfied: python-dateutil>=2.8.2 in ./venv/lib/python3.12/site-packages (from pandas) (2.9.0.post0)\n",
            "Collecting pytz>=2020.1 (from pandas)\n",
            "  Downloading pytz-2025.2-py2.py3-none-any.whl.metadata (22 kB)\n",
            "Collecting tzdata>=2022.7 (from pandas)\n",
            "  Downloading tzdata-2025.2-py2.py3-none-any.whl.metadata (1.4 kB)\n",
            "Collecting contourpy>=1.0.1 (from matplotlib)\n",
            "  Using cached contourpy-1.3.1-cp312-cp312-macosx_11_0_arm64.whl.metadata (5.4 kB)\n",
            "Collecting cycler>=0.10 (from matplotlib)\n",
            "  Using cached cycler-0.12.1-py3-none-any.whl.metadata (3.8 kB)\n",
            "Collecting fonttools>=4.22.0 (from matplotlib)\n",
            "  Downloading fonttools-4.57.0-cp312-cp312-macosx_10_13_universal2.whl.metadata (102 kB)\n",
            "\u001b[2K     \u001b[38;2;114;156;31m━━━━━━━━━━━━━━━━━━━━━━━━━━━━━━━━━━━━━━━\u001b[0m \u001b[32m102.5/102.5 kB\u001b[0m \u001b[31m6.0 MB/s\u001b[0m eta \u001b[36m0:00:00\u001b[0m\n",
            "\u001b[?25hCollecting kiwisolver>=1.3.1 (from matplotlib)\n",
            "  Using cached kiwisolver-1.4.8-cp312-cp312-macosx_11_0_arm64.whl.metadata (6.2 kB)\n",
            "Requirement already satisfied: packaging>=20.0 in ./venv/lib/python3.12/site-packages (from matplotlib) (24.2)\n",
            "Collecting pillow>=8 (from matplotlib)\n",
            "  Using cached pillow-11.1.0-cp312-cp312-macosx_11_0_arm64.whl.metadata (9.1 kB)\n",
            "Collecting pyparsing>=2.3.1 (from matplotlib)\n",
            "  Downloading pyparsing-3.2.3-py3-none-any.whl.metadata (5.0 kB)\n",
            "Collecting botocore<1.38.0,>=1.37.30 (from boto3)\n",
            "  Downloading botocore-1.37.30-py3-none-any.whl.metadata (5.7 kB)\n",
            "Collecting jmespath<2.0.0,>=0.7.1 (from boto3)\n",
            "  Downloading jmespath-1.0.1-py3-none-any.whl.metadata (7.6 kB)\n",
            "Collecting s3transfer<0.12.0,>=0.11.0 (from boto3)\n",
            "  Downloading s3transfer-0.11.4-py3-none-any.whl.metadata (1.7 kB)\n",
            "Requirement already satisfied: six>=1.5 in ./venv/lib/python3.12/site-packages (from python-dateutil>=2.8.2->pandas) (1.17.0)\n",
            "Using cached requests-2.32.3-py3-none-any.whl (64 kB)\n",
            "Using cached pandas-2.2.3-cp312-cp312-macosx_11_0_arm64.whl (11.4 MB)\n",
            "Downloading matplotlib-3.10.1-cp312-cp312-macosx_11_0_arm64.whl (8.0 MB)\n",
            "\u001b[2K   \u001b[38;2;114;156;31m━━━━━━━━━━━━━━━━━━━━━━━━━━━━━━━━━━━━━━━━\u001b[0m \u001b[32m8.0/8.0 MB\u001b[0m \u001b[31m43.6 MB/s\u001b[0m eta \u001b[36m0:00:00\u001b[0mm eta \u001b[36m0:00:01\u001b[0m[36m0:00:01\u001b[0m\n",
            "\u001b[?25hDownloading seaborn-0.13.2-py3-none-any.whl (294 kB)\n",
            "\u001b[2K   \u001b[38;2;114;156;31m━━━━━━━━━━━━━━━━━━━━━━━━━━━━━━━━━━━━━━━━\u001b[0m \u001b[32m294.9/294.9 kB\u001b[0m \u001b[31m34.1 MB/s\u001b[0m eta \u001b[36m0:00:00\u001b[0m\n",
            "\u001b[?25hDownloading faker-37.1.0-py3-none-any.whl (1.9 MB)\n",
            "\u001b[2K   \u001b[38;2;114;156;31m━━━━━━━━━━━━━━━━━━━━━━━━━━━━━━━━━━━━━━━━\u001b[0m \u001b[32m1.9/1.9 MB\u001b[0m \u001b[31m57.8 MB/s\u001b[0m eta \u001b[36m0:00:00\u001b[0m\n",
            "\u001b[?25hDownloading psycopg2_binary-2.9.10-cp312-cp312-macosx_14_0_arm64.whl (3.3 MB)\n",
            "\u001b[2K   \u001b[38;2;114;156;31m━━━━━━━━━━━━━━━━━━━━━━━━━━━━━━━━━━━━━━━━\u001b[0m \u001b[32m3.3/3.3 MB\u001b[0m \u001b[31m64.3 MB/s\u001b[0m eta \u001b[36m0:00:00\u001b[0mm eta \u001b[36m0:00:01\u001b[0m\n",
            "\u001b[?25hDownloading neo4j-5.28.1-py3-none-any.whl (312 kB)\n",
            "\u001b[2K   \u001b[38;2;114;156;31m━━━━━━━━━━━━━━━━━━━━━━━━━━━━━━━━━━━━━━━━\u001b[0m \u001b[32m312.3/312.3 kB\u001b[0m \u001b[31m46.5 MB/s\u001b[0m eta \u001b[36m0:00:00\u001b[0m\n",
            "\u001b[?25hDownloading redis-5.2.1-py3-none-any.whl (261 kB)\n",
            "\u001b[2K   \u001b[38;2;114;156;31m━━━━━━━━━━━━━━━━━━━━━━━━━━━━━━━━━━━━━━━━\u001b[0m \u001b[32m261.5/261.5 kB\u001b[0m \u001b[31m35.9 MB/s\u001b[0m eta \u001b[36m0:00:00\u001b[0m\n",
            "\u001b[?25hDownloading boto3-1.37.30-py3-none-any.whl (139 kB)\n",
            "\u001b[2K   \u001b[38;2;114;156;31m━━━━━━━━━━━━━━━━━━━━━━━━━━━━━━━━━━━━━━━━\u001b[0m \u001b[32m139.6/139.6 kB\u001b[0m \u001b[31m26.8 MB/s\u001b[0m eta \u001b[36m0:00:00\u001b[0m\n",
            "\u001b[?25hDownloading botocore-1.37.30-py3-none-any.whl (13.5 MB)\n",
            "\u001b[2K   \u001b[38;2;114;156;31m━━━━━━━━━━━━━━━━━━━━━━━━━━━━━━━━━━━━━━━━\u001b[0m \u001b[32m13.5/13.5 MB\u001b[0m \u001b[31m45.2 MB/s\u001b[0m eta \u001b[36m0:00:00\u001b[0m MB/s\u001b[0m eta \u001b[36m0:00:01\u001b[0m01\u001b[0m\n",
            "\u001b[?25hDownloading certifi-2025.1.31-py3-none-any.whl (166 kB)\n",
            "\u001b[2K   \u001b[38;2;114;156;31m━━━━━━━━━━━━━━━━━━━━━━━━━━━━━━━━━━━━━━━━\u001b[0m \u001b[32m166.4/166.4 kB\u001b[0m \u001b[31m9.7 MB/s\u001b[0m eta \u001b[36m0:00:00\u001b[0m\n",
            "\u001b[?25hUsing cached charset_normalizer-3.4.1-cp312-cp312-macosx_10_13_universal2.whl (196 kB)\n",
            "Using cached contourpy-1.3.1-cp312-cp312-macosx_11_0_arm64.whl (255 kB)\n",
            "Using cached cycler-0.12.1-py3-none-any.whl (8.3 kB)\n",
            "Downloading fonttools-4.57.0-cp312-cp312-macosx_10_13_universal2.whl (2.8 MB)\n",
            "\u001b[2K   \u001b[38;2;114;156;31m━━━━━━━━━━━━━━━━━━━━━━━━━━━━━━━━━━━━━━━━\u001b[0m \u001b[32m2.8/2.8 MB\u001b[0m \u001b[31m35.8 MB/s\u001b[0m eta \u001b[36m0:00:00\u001b[0mm eta \u001b[36m0:00:01\u001b[0m0:01\u001b[0m\n",
            "\u001b[?25hUsing cached idna-3.10-py3-none-any.whl (70 kB)\n",
            "Downloading jmespath-1.0.1-py3-none-any.whl (20 kB)\n",
            "Using cached kiwisolver-1.4.8-cp312-cp312-macosx_11_0_arm64.whl (65 kB)\n",
            "Downloading numpy-2.2.4-cp312-cp312-macosx_14_0_arm64.whl (5.2 MB)\n",
            "\u001b[2K   \u001b[38;2;114;156;31m━━━━━━━━━━━━━━━━━━━━━━━━━━━━━━━━━━━━━━━━\u001b[0m \u001b[32m5.2/5.2 MB\u001b[0m \u001b[31m48.4 MB/s\u001b[0m eta \u001b[36m0:00:00\u001b[0m31m46.4 MB/s\u001b[0m eta \u001b[36m0:00:01\u001b[0m\n",
            "\u001b[?25hUsing cached pillow-11.1.0-cp312-cp312-macosx_11_0_arm64.whl (3.1 MB)\n",
            "Downloading pyparsing-3.2.3-py3-none-any.whl (111 kB)\n",
            "\u001b[2K   \u001b[38;2;114;156;31m━━━━━━━━━━━━━━━━━━━━━━━━━━━━━━━━━━━━━━━━\u001b[0m \u001b[32m111.1/111.1 kB\u001b[0m \u001b[31m18.9 MB/s\u001b[0m eta \u001b[36m0:00:00\u001b[0m\n",
            "\u001b[?25hDownloading pytz-2025.2-py2.py3-none-any.whl (509 kB)\n",
            "\u001b[2K   \u001b[38;2;114;156;31m━━━━━━━━━━━━━━━━━━━━━━━━━━━━━━━━━━━━━━━━\u001b[0m \u001b[32m509.2/509.2 kB\u001b[0m \u001b[31m38.5 MB/s\u001b[0m eta \u001b[36m0:00:00\u001b[0m\n",
            "\u001b[?25hDownloading s3transfer-0.11.4-py3-none-any.whl (84 kB)\n",
            "\u001b[2K   \u001b[38;2;114;156;31m━━━━━━━━━━━━━━━━━━━━━━━━━━━━━━━━━━━━━━━━\u001b[0m \u001b[32m84.4/84.4 kB\u001b[0m \u001b[31m15.0 MB/s\u001b[0m eta \u001b[36m0:00:00\u001b[0m\n",
            "\u001b[?25hDownloading tzdata-2025.2-py2.py3-none-any.whl (347 kB)\n",
            "\u001b[2K   \u001b[38;2;114;156;31m━━━━━━━━━━━━━━━━━━━━━━━━━━━━━━━━━━━━━━━━\u001b[0m \u001b[32m347.8/347.8 kB\u001b[0m \u001b[31m41.9 MB/s\u001b[0m eta \u001b[36m0:00:00\u001b[0m\n",
            "\u001b[?25hUsing cached urllib3-2.3.0-py3-none-any.whl (128 kB)\n",
            "Installing collected packages: pytz, urllib3, tzdata, redis, pyparsing, psycopg2-binary, pillow, numpy, neo4j, kiwisolver, jmespath, idna, fonttools, cycler, charset-normalizer, certifi, requests, pandas, faker, contourpy, botocore, s3transfer, matplotlib, seaborn, boto3\n",
            "Successfully installed boto3-1.37.30 botocore-1.37.30 certifi-2025.1.31 charset-normalizer-3.4.1 contourpy-1.3.1 cycler-0.12.1 faker-37.1.0 fonttools-4.57.0 idna-3.10 jmespath-1.0.1 kiwisolver-1.4.8 matplotlib-3.10.1 neo4j-5.28.1 numpy-2.2.4 pandas-2.2.3 pillow-11.1.0 psycopg2-binary-2.9.10 pyparsing-3.2.3 pytz-2025.2 redis-5.2.1 requests-2.32.3 s3transfer-0.11.4 seaborn-0.13.2 tzdata-2025.2 urllib3-2.3.0\n",
            "\n",
            "\u001b[1m[\u001b[0m\u001b[34;49mnotice\u001b[0m\u001b[1;39;49m]\u001b[0m\u001b[39;49m A new release of pip is available: \u001b[0m\u001b[31;49m24.0\u001b[0m\u001b[39;49m -> \u001b[0m\u001b[32;49m25.0.1\u001b[0m\n",
            "\u001b[1m[\u001b[0m\u001b[34;49mnotice\u001b[0m\u001b[1;39;49m]\u001b[0m\u001b[39;49m To update, run: \u001b[0m\u001b[32;49mpip install --upgrade pip\u001b[0m\n",
            "Note: you may need to restart the kernel to use updated packages.\n",
            "Collecting cassandra-driver\n",
            "  Downloading cassandra-driver-3.29.2.tar.gz (293 kB)\n",
            "\u001b[2K     \u001b[38;2;114;156;31m━━━━━━━━━━━━━━━━━━━━━━━━━━━━━━━━━━━━━━━\u001b[0m \u001b[32m293.8/293.8 kB\u001b[0m \u001b[31m5.9 MB/s\u001b[0m eta \u001b[36m0:00:00\u001b[0m MB/s\u001b[0m eta \u001b[36m0:00:01\u001b[0m\n",
            "\u001b[?25h  Installing build dependencies ... \u001b[?25ldone\n",
            "\u001b[?25h  Getting requirements to build wheel ... \u001b[?25ldone\n",
            "\u001b[?25h  Preparing metadata (pyproject.toml) ... \u001b[?25ldone\n",
            "\u001b[?25hCollecting geomet<0.3,>=0.1 (from cassandra-driver)\n",
            "  Downloading geomet-0.2.1.post1-py3-none-any.whl.metadata (1.0 kB)\n",
            "Collecting click (from geomet<0.3,>=0.1->cassandra-driver)\n",
            "  Using cached click-8.1.8-py3-none-any.whl.metadata (2.3 kB)\n",
            "Requirement already satisfied: six in ./venv/lib/python3.12/site-packages (from geomet<0.3,>=0.1->cassandra-driver) (1.17.0)\n",
            "Downloading geomet-0.2.1.post1-py3-none-any.whl (18 kB)\n",
            "Using cached click-8.1.8-py3-none-any.whl (98 kB)\n",
            "Building wheels for collected packages: cassandra-driver\n",
            "  Building wheel for cassandra-driver (pyproject.toml) ... \u001b[?25ldone\n",
            "\u001b[?25h  Created wheel for cassandra-driver: filename=cassandra_driver-3.29.2-cp312-cp312-macosx_11_0_arm64.whl size=340702 sha256=7aaa115ac2866c10acf0c11b7d5968a1ddb84077a3bfe9c489184fef6eea6e3d\n",
            "  Stored in directory: /Users/paulpousset/Library/Caches/pip/wheels/cb/d3/ff/82cd34314f5b85ba7acdee6febad41b979f6a46ded13f3c9a0\n",
            "Successfully built cassandra-driver\n",
            "Installing collected packages: click, geomet, cassandra-driver\n",
            "Successfully installed cassandra-driver-3.29.2 click-8.1.8 geomet-0.2.1.post1\n",
            "\n",
            "\u001b[1m[\u001b[0m\u001b[34;49mnotice\u001b[0m\u001b[1;39;49m]\u001b[0m\u001b[39;49m A new release of pip is available: \u001b[0m\u001b[31;49m24.0\u001b[0m\u001b[39;49m -> \u001b[0m\u001b[32;49m25.0.1\u001b[0m\n",
            "\u001b[1m[\u001b[0m\u001b[34;49mnotice\u001b[0m\u001b[1;39;49m]\u001b[0m\u001b[39;49m To update, run: \u001b[0m\u001b[32;49mpip install --upgrade pip\u001b[0m\n",
            "Note: you may need to restart the kernel to use updated packages.\n"
          ]
        }
      ],
      "source": [
        "# Install required libraries\n",
        "%pip install requests pandas matplotlib seaborn faker psycopg2-binary neo4j redis boto3\n",
        "%pip install cassandra-driver --no-binary cassandra-driver\n"
      ]
    },
    {
      "cell_type": "code",
      "execution_count": 2,
      "id": "aa6f4af8",
      "metadata": {},
      "outputs": [],
      "source": [
        "# Import libraries\n",
        "import requests\n",
        "import pandas as pd\n",
        "import matplotlib.pyplot as plt\n",
        "import seaborn as sns\n",
        "from faker import Faker\n",
        "import time\n",
        "import psycopg2\n",
        "from cassandra.cluster import Cluster\n",
        "from neo4j import GraphDatabase\n",
        "import redis\n",
        "import boto3\n",
        "\n",
        "fake = Faker()"
      ]
    },
    {
      "cell_type": "markdown",
      "id": "2e290a0a",
      "metadata": {},
      "source": [
        "## Backend setup (Terminal)\n",
        "\n",
        "```bash\n",
        "npm run start:dev\n",
        "```"
      ]
    },
    {
      "cell_type": "code",
      "execution_count": 3,
      "id": "44a26338",
      "metadata": {},
      "outputs": [],
      "source": [
        "# API Base URL\n",
        "API_BASE = \"http://localhost:3000\""
      ]
    },
    {
      "cell_type": "markdown",
      "id": "ff69bc02",
      "metadata": {},
      "source": [
        "## Database Settings"
      ]
    },
    {
      "cell_type": "code",
      "execution_count": 4,
      "id": "020d2e5a",
      "metadata": {},
      "outputs": [],
      "source": [
        "# Database configurations\n",
        "POSTGRES_SETTINGS = {'host':'localhost', 'port':5432, 'user':'postgres','password':'postgres','database':'mydb'}\n",
        "CASSANDRA_SETTINGS = {'host':['127.0.0.1'],'port':9042}\n",
        "NEO4J_SETTINGS = {'uri':'bolt://localhost:7687','user':'neo4j','password':'neo4j'}\n",
        "REDIS_SETTINGS = {'host':'localhost','port':6379,'db':0}\n",
        "STORAGE_SETTINGS = {'endpoint':'http://localhost:9000','access_key':'minioadmin','secret_key':'minioadmin','bucket':'uploads'}"
      ]
    },
    {
      "cell_type": "markdown",
      "id": "3b145fd4",
      "metadata": {},
      "source": [
        "# Verifying database connections"
      ]
    },
    {
      "cell_type": "code",
      "execution_count": 5,
      "id": "9e0fc26a",
      "metadata": {},
      "outputs": [
        {
          "ename": "UndefinedTable",
          "evalue": "relation \"user\" does not exist\nLINE 1: SELECT COUNT(*) FROM \"user\";\n                             ^\n",
          "output_type": "error",
          "traceback": [
            "\u001b[31m---------------------------------------------------------------------------\u001b[39m",
            "\u001b[31mUndefinedTable\u001b[39m                            Traceback (most recent call last)",
            "\u001b[36mCell\u001b[39m\u001b[36m \u001b[39m\u001b[32mIn[5]\u001b[39m\u001b[32m, line 4\u001b[39m\n\u001b[32m      2\u001b[39m conn_pg=psycopg2.connect(**POSTGRES_SETTINGS)\n\u001b[32m      3\u001b[39m cur_pg=conn_pg.cursor()\n\u001b[32m----> \u001b[39m\u001b[32m4\u001b[39m \u001b[43mcur_pg\u001b[49m\u001b[43m.\u001b[49m\u001b[43mexecute\u001b[49m\u001b[43m(\u001b[49m\u001b[33;43m'\u001b[39;49m\u001b[33;43mSELECT COUNT(*) FROM \u001b[39;49m\u001b[33;43m\"\u001b[39;49m\u001b[33;43muser\u001b[39;49m\u001b[33;43m\"\u001b[39;49m\u001b[33;43m;\u001b[39;49m\u001b[33;43m'\u001b[39;49m\u001b[43m)\u001b[49m\n\u001b[32m      5\u001b[39m \u001b[38;5;28mprint\u001b[39m(\u001b[33m'\u001b[39m\u001b[33mPostgreSQL Users:\u001b[39m\u001b[33m'\u001b[39m, cur_pg.fetchone()[\u001b[32m0\u001b[39m])\n\u001b[32m      6\u001b[39m cur_pg.close()\n",
            "\u001b[31mUndefinedTable\u001b[39m: relation \"user\" does not exist\nLINE 1: SELECT COUNT(*) FROM \"user\";\n                             ^\n"
          ]
        }
      ],
      "source": [
        "# PostgreSQL Check\n",
        "conn_pg=psycopg2.connect(**POSTGRES_SETTINGS)\n",
        "cur_pg=conn_pg.cursor()\n",
        "cur_pg.execute('SELECT COUNT(*) FROM \"user\";')\n",
        "print('PostgreSQL Users:', cur_pg.fetchone()[0])\n",
        "cur_pg.close()\n",
        "conn_pg.close()\n",
        "\n",
        "# Cassandra Check\n",
        "cluster_cass=Cluster(CASSANDRA_SETTINGS['host'],port=CASSANDRA_SETTINGS['port'])\n",
        "session_cass=cluster_cass.connect('summer_trip')\n",
        "rows=session_cass.execute('SELECT COUNT(*) FROM messages;')\n",
        "print('Cassandra Messages:',rows.one()[0])\n",
        "\n",
        "# Redis Check\n",
        "redis_client=redis.Redis(**REDIS_SETTINGS)\n",
        "redis_client.set('test','Redis OK')\n",
        "print('Redis Check:',redis_client.get('test'))\n",
        "\n",
        "# Neo4j Check\n",
        "driver_neo4j=GraphDatabase.driver(**NEO4J_SETTINGS)\n",
        "with driver_neo4j.session() as session:\n",
        "    result=session.run('MATCH (n) RETURN COUNT(n) AS count')\n",
        "    print('Neo4j Nodes:',result.single()['count'])\n",
        "\n",
        "driver_neo4j.close()\n",
        "\n",
        "# Storage Check\n",
        "s3_client=boto3.client('s3',endpoint_url=STORAGE_SETTINGS['endpoint'],aws_access_key_id=STORAGE_SETTINGS['access_key'],aws_secret_access_key=STORAGE_SETTINGS['secret_key'])\n",
        "s3_client.put_object(Bucket=STORAGE_SETTINGS['bucket'],Key='test.txt',Body=b'Test file')\n",
        "response=s3_client.get_object(Bucket=STORAGE_SETTINGS['bucket'],Key='test.txt')\n",
        "print('Storage Bucket Content:',response['Body'].read().decode())"
      ]
    },
    {
      "cell_type": "markdown",
      "id": "e6b85bd3",
      "metadata": {},
      "source": [
        "## Performance Testing (PostgreSQL example)"
      ]
    },
    {
      "cell_type": "code",
      "execution_count": 6,
      "id": "a0fa6f33",
      "metadata": {},
      "outputs": [
        {
          "data": {
            "image/png": "[encoded data removed]",
            "text/plain": [
              "<Figure size 640x480 with 1 Axes>"
            ]
          },
          "metadata": {},
          "output_type": "display_data"
        }
      ],
      "source": [
        "# PostgreSQL GET performance\n",
        "times=[]\n",
        "for _ in range(100):\n",
        "    start=time.time()\n",
        "    requests.get(f'{API_BASE}/users')\n",
        "    times.append(time.time()-start)\n",
        "\n",
        "sns.histplot(times,kde=True)\n",
        "plt.title('PostgreSQL Response Time')\n",
        "plt.xlabel('Seconds')\n",
        "plt.ylabel('Frequency')\n",
        "plt.show()"
      ]
    },
    {
      "cell_type": "markdown",
      "id": "e6b85bd3",
      "metadata": {},
      "source": [
        "## Performance Testing (Cassandra example)"
      ]
    },
    {
      "cell_type": "code",
      "execution_count": 7,
      "id": "a0fa6f34",
      "metadata": {},
      "outputs": [
        {
          "data": {
            "image/png": "[encoded data removed]",
            "text/plain": [
              "<Figure size 640x480 with 1 Axes>"
            ]
          },
          "metadata": {},
          "output_type": "display_data"
        }
      ],
      "source": [
        "# Cassandra GET performance\n",
        "times=[]\n",
        "for _ in range(100):\n",
        "    start=time.time()\n",
        "    requests.get(f'{API_BASE}/messages')\n",
        "    times.append(time.time()-start)\n",
        "\n",
        "sns.histplot(times,kde=True)\n",
        "plt.title('Cassandra Response Time')\n",
        "plt.xlabel('Seconds')\n",
        "plt.ylabel('Frequency')\n",
        "plt.show()"
      ]
    },
    {
      "cell_type": "markdown",
      "id": "e6b85bd3",
      "metadata": {},
      "source": [
        "## Performance Testing (Redis example)"
      ]
    },
    {
      "cell_type": "code",
      "execution_count": null,
      "id": "a0fa6f35",
      "metadata": {},
      "outputs": [],
      "source": [
        "# Redis GET performance\n",
        "times=[]\n",
        "for _ in range(100):\n",
        "    start=time.time()\n",
        "    requests.get(f'{API_BASE}/cache')\n",
        "    times.append(time.time()-start)\n",
        "\n",
        "sns.histplot(times,kde=True)\n",
        "plt.title('Redis Response Time')\n",
        "plt.xlabel('Seconds')\n",
        "plt.ylabel('Frequency')\n",
        "plt.show()"
      ]
    },
    {
      "cell_type": "markdown",
      "id": "e6b85bd3",
      "metadata": {},
      "source": [
        "## Performance Testing (Neo4j example)"
      ]
    },
    {
      "cell_type": "code",
      "execution_count": null,
      "id": "a0fa6f36",
      "metadata": {},
      "outputs": [],
      "source": [
        "# Neo4j GET performance\n",
        "times=[]\n",
        "for _ in range(100):\n",
        "    start=time.time()\n",
        "    requests.get(f'{API_BASE}/relationships')\n",
        "    times.append(time.time()-start)\n",
        "\n",
        "sns.histplot(times,kde=True)\n",
        "plt.title('Neo4j Response Time')\n",
        "plt.xlabel('Seconds')\n",
        "plt.ylabel('Frequency')\n",
        "plt.show()"
      ]
    },
    {
      "cell_type": "markdown",
      "id": "e6b85bd3",
      "metadata": {},
      "source": [
        "## Performance Testing (Storage example)"
      ]
    },
    {
      "cell_type": "code",
      "execution_count": null,
      "id": "a0fa6f37",
      "metadata": {},
      "outputs": [],
      "source": [
        "# Storage GET performance\n",
        "times=[]\n",
        "for _ in range(100):\n",
        "    start=time.time()\n",
        "    requests.get(f'{API_BASE}/files/test.txt')\n",
        "    times.append(time.time()-start)\n",
        "\n",
        "sns.histplot(times,kde=True)\n",
        "plt.title('Storage Response Time')\n",
        "plt.xlabel('Seconds')\n",
        "plt.ylabel('Frequency')\n",
        "plt.show()"
      ]
    },
    {
      "cell_type": "markdown",
      "id": "b224b892",
      "metadata": {},
      "source": [
        "## Fake Data Generation (Cassandra example)"
      ]
    },
    {
      "cell_type": "code",
      "execution_count": 8,
      "id": "34e7272e",
      "metadata": {},
      "outputs": [
        {
          "name": "stdout",
          "output_type": "stream",
          "text": [
            "Added 50 messages.\n"
          ]
        }
      ],
      "source": [
        "# Add fake messages\n",
        "for _ in range(50):\n",
        "    requests.post(f'{API_BASE}/messages',json={\n",
        "        'sender_id':fake.uuid4(),\n",
        "        'receiver_id':fake.uuid4(),\n",
        "        'content':fake.text()\n",
        "    })\n",
        "print('Added 50 messages.')"
      ]
    },
    {
      "cell_type": "markdown",
      "id": "b224b892",
      "metadata": {},
      "source": [
        "## Fake Data Generation (Redis example)"
      ]
    },
    {
      "cell_type": "code",
      "execution_count": null,
      "id": "34e7272f",
      "metadata": {},
      "outputs": [],
      "source": [
        "# Add fake cache entries\n",
        "for _ in range(50):\n",
        "    requests.post(f'{API_BASE}/cache',json={\n",
        "        'key':fake.uuid4(),\n",
        "        'value':fake.text()\n",
        "    })\n",
        "print('Added 50 cache entries.')"
      ]
    },
    {
      "cell_type": "markdown",
      "id": "b224b892",
      "metadata": {},
      "source": [
        "## Fake Data Generation (Neo4j example)"
      ]
    },
    {
      "cell_type": "code",
      "execution_count": null,
      "id": "34e72730",
      "metadata": {},
      "outputs": [],
      "source": [
        "# Add fake relationships\n",
        "for _ in range(50):\n",
        "    requests.post(f'{API_BASE}/relationships',json={\n",
        "        'user1_id':fake.uuid4(),\n",
        "        'user2_id':fake.uuid4(),\n",
        "        'type':fake.random_element(elements=('friend', 'colleague', 'family'))\n",
        "    })\n",
        "print('Added 50 relationships.')"
      ]
    },
    {
      "cell_type": "markdown",
      "id": "b224b892",
      "metadata": {},
      "source": [
        "## Fake Data Generation (Storage example)"
      ]
    },
    {
      "cell_type": "code",
      "execution_count": null,
      "id": "34e72731",
      "metadata": {},
      "outputs": [],
      "source": [
        "# Add fake files\n",
        "for _ in range(50):\n",
        "    requests.post(f'{API_BASE}/files',files={'file':('test.txt',fake.text())})\n",
        "print('Added 50 files.')"
      ]
    },
    {
      "cell_type": "markdown",
      "id": "10b10bd6",
      "metadata": {},
      "source": [
        "# Close all database connections after testing"
      ]
    },
    {
      "cell_type": "code",
      "execution_count": null,
      "id": "2e431ac2",
      "metadata": {},
      "outputs": [],
      "source": [
        "session_cass.shutdown()\n",
        "cluster_cass.shutdown()\n",
        "redis_client.close()"
      ]
    }
  ],
  "metadata": {
    "kernelspec": {
      "display_name": "venv",
      "language": "python",
      "name": "python3"
    },
    "language_info": {
      "codemirror_mode": {
        "name": "ipython",
        "version": 3
      },
      "file_extension": ".py",
      "mimetype": "text/x-python",
      "name": "python",
      "nbconvert_exporter": "python",
      "pygments_lexer": "ipython3",
      "version": "3.12.4"
    }
  },
  "nbformat": 4,
  "nbformat_minor": 5
}
