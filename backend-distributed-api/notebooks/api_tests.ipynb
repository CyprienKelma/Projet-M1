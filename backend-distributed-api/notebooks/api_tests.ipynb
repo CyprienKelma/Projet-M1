{
  "cells": [
    {
      "cell_type": "markdown",
      "id": "b59dfeef",
      "metadata": {},
      "source": [
        "# Advanced Backend API Testing and Comprehensive Data Analysis\n",
        "\n",
        "This Jupyter Notebook extensively tests and analyzes the REST API built with NestJS and its integration with multiple databases:\n",
        "\n",
        "- **PostgreSQL** (relational data: users, groups)\n",
        "- **Cassandra** (messages, notifications)\n",
        "- **Redis** (cache performance)\n",
        "- **Neo4j** (user relationships)\n",
        "- **Storage Bucket** (file uploads)\n",
        "\n",
        "### Objectives:\n",
        "- Verify database connectivity and API responses.\n",
        "- Generate and validate fake data.\n",
        "- Perform detailed performance analysis.\n",
        "- Confirm integration across all databases."
      ]
    },
    {
      "cell_type": "code",
      "execution_count": 1,
      "id": "1ae39c5f",
      "metadata": {},
      "outputs": [
        {
          "name": "stdout",
          "output_type": "stream",
          "text": [
            "Requirement already satisfied: requests in c:\\users\\nolan\\anaconda3\\envs\\nolan_env\\lib\\site-packages (2.32.3)\n",
            "Collecting pandas\n",
            "  Using cached pandas-2.2.3-cp310-cp310-win_amd64.whl.metadata (19 kB)\n",
            "Collecting matplotlib\n",
            "  Downloading matplotlib-3.10.1-cp310-cp310-win_amd64.whl.metadata (11 kB)\n",
            "Collecting seaborn\n",
            "  Using cached seaborn-0.13.2-py3-none-any.whl.metadata (5.4 kB)\n",
            "Collecting faker\n",
            "  Downloading faker-37.1.0-py3-none-any.whl.metadata (15 kB)\n",
            "Collecting psycopg2-binary\n",
            "  Downloading psycopg2_binary-2.9.10-cp310-cp310-win_amd64.whl.metadata (5.0 kB)\n",
            "Collecting neo4j\n",
            "  Using cached neo4j-5.28.1-py3-none-any.whl.metadata (5.9 kB)\n",
            "Collecting redis\n",
            "  Using cached redis-5.2.1-py3-none-any.whl.metadata (9.1 kB)\n",
            "Collecting boto3\n",
            "  Using cached boto3-1.37.18-py3-none-any.whl.metadata (6.7 kB)\n",
            "Requirement already satisfied: charset-normalizer<4,>=2 in c:\\users\\nolan\\anaconda3\\envs\\nolan_env\\lib\\site-packages (from requests) (3.4.1)\n",
            "Requirement already satisfied: idna<4,>=2.5 in c:\\users\\nolan\\anaconda3\\envs\\nolan_env\\lib\\site-packages (from requests) (3.10)\n",
            "Requirement already satisfied: urllib3<3,>=1.21.1 in c:\\users\\nolan\\anaconda3\\envs\\nolan_env\\lib\\site-packages (from requests) (2.3.0)\n",
            "Requirement already satisfied: certifi>=2017.4.17 in c:\\users\\nolan\\anaconda3\\envs\\nolan_env\\lib\\site-packages (from requests) (2025.1.31)\n",
            "Requirement already satisfied: numpy>=1.22.4 in c:\\users\\nolan\\anaconda3\\envs\\nolan_env\\lib\\site-packages (from pandas) (2.0.2)\n",
            "Requirement already satisfied: python-dateutil>=2.8.2 in c:\\users\\nolan\\anaconda3\\envs\\nolan_env\\lib\\site-packages (from pandas) (2.9.0.post0)\n",
            "Collecting pytz>=2020.1 (from pandas)\n",
            "  Using cached pytz-2025.1-py2.py3-none-any.whl.metadata (22 kB)\n",
            "Collecting tzdata>=2022.7 (from pandas)\n",
            "  Downloading tzdata-2025.2-py2.py3-none-any.whl.metadata (1.4 kB)\n",
            "Collecting contourpy>=1.0.1 (from matplotlib)\n",
            "  Downloading contourpy-1.3.1-cp310-cp310-win_amd64.whl.metadata (5.4 kB)\n",
            "Collecting cycler>=0.10 (from matplotlib)\n",
            "  Using cached cycler-0.12.1-py3-none-any.whl.metadata (3.8 kB)\n",
            "Collecting fonttools>=4.22.0 (from matplotlib)\n",
            "  Downloading fonttools-4.56.0-cp310-cp310-win_amd64.whl.metadata (103 kB)\n",
            "Collecting kiwisolver>=1.3.1 (from matplotlib)\n",
            "  Downloading kiwisolver-1.4.8-cp310-cp310-win_amd64.whl.metadata (6.3 kB)\n",
            "Requirement already satisfied: packaging>=20.0 in c:\\users\\nolan\\anaconda3\\envs\\nolan_env\\lib\\site-packages (from matplotlib) (24.2)\n",
            "Collecting pillow>=8 (from matplotlib)\n",
            "  Using cached pillow-11.1.0-cp310-cp310-win_amd64.whl.metadata (9.3 kB)\n",
            "Collecting pyparsing>=2.3.1 (from matplotlib)\n",
            "  Downloading pyparsing-3.2.2-py3-none-any.whl.metadata (5.0 kB)\n",
            "Collecting async-timeout>=4.0.3 (from redis)\n",
            "  Downloading async_timeout-5.0.1-py3-none-any.whl.metadata (5.1 kB)\n",
            "Collecting botocore<1.38.0,>=1.37.18 (from boto3)\n",
            "  Using cached botocore-1.37.18-py3-none-any.whl.metadata (5.7 kB)\n",
            "Collecting jmespath<2.0.0,>=0.7.1 (from boto3)\n",
            "  Using cached jmespath-1.0.1-py3-none-any.whl.metadata (7.6 kB)\n",
            "Collecting s3transfer<0.12.0,>=0.11.0 (from boto3)\n",
            "  Using cached s3transfer-0.11.4-py3-none-any.whl.metadata (1.7 kB)\n",
            "Requirement already satisfied: six>=1.5 in c:\\users\\nolan\\anaconda3\\envs\\nolan_env\\lib\\site-packages (from python-dateutil>=2.8.2->pandas) (1.17.0)\n",
            "Downloading pandas-2.2.3-cp310-cp310-win_amd64.whl (11.6 MB)\n",
            "   ---------------------------------------- 0.0/11.6 MB ? eta -:--:--\n",
            "   ---------------------------------------- 0.0/11.6 MB ? eta -:--:--\n",
            "   ---------------------------------------- 0.0/11.6 MB ? eta -:--:--\n",
            "    --------------------------------------- 0.3/11.6 MB ? eta -:--:--\n",
            "   - -------------------------------------- 0.5/11.6 MB 1.0 MB/s eta 0:00:11\n",
            "   -- ------------------------------------- 0.8/11.6 MB 1.2 MB/s eta 0:00:10\n",
            "   -- ------------------------------------- 0.8/11.6 MB 1.2 MB/s eta 0:00:10\n",
            "   --- ------------------------------------ 1.0/11.6 MB 799.2 kB/s eta 0:00:14\n",
            "   --- ------------------------------------ 1.0/11.6 MB 799.2 kB/s eta 0:00:14\n",
            "   ---- ----------------------------------- 1.3/11.6 MB 798.6 kB/s eta 0:00:13\n",
            "   ---- ----------------------------------- 1.3/11.6 MB 798.6 kB/s eta 0:00:13\n",
            "   ----- ---------------------------------- 1.6/11.6 MB 729.4 kB/s eta 0:00:14\n",
            "   ------ --------------------------------- 1.8/11.6 MB 786.4 kB/s eta 0:00:13\n",
            "   ------- -------------------------------- 2.1/11.6 MB 833.0 kB/s eta 0:00:12\n",
            "   -------- ------------------------------- 2.4/11.6 MB 871.6 kB/s eta 0:00:11\n",
            "   --------- ------------------------------ 2.6/11.6 MB 937.7 kB/s eta 0:00:10\n",
            "   ---------- ----------------------------- 3.1/11.6 MB 1.0 MB/s eta 0:00:09\n",
            "   ------------ --------------------------- 3.7/11.6 MB 1.1 MB/s eta 0:00:08\n",
            "   ------------- -------------------------- 3.9/11.6 MB 1.1 MB/s eta 0:00:07\n",
            "   -------------- ------------------------- 4.2/11.6 MB 1.1 MB/s eta 0:00:07\n",
            "   --------------- ------------------------ 4.5/11.6 MB 1.1 MB/s eta 0:00:07\n",
            "   ---------------- ----------------------- 4.7/11.6 MB 1.1 MB/s eta 0:00:07\n",
            "   ----------------- ---------------------- 5.0/11.6 MB 1.1 MB/s eta 0:00:06\n",
            "   ------------------ --------------------- 5.2/11.6 MB 1.2 MB/s eta 0:00:06\n",
            "   ------------------- -------------------- 5.8/11.6 MB 1.2 MB/s eta 0:00:05\n",
            "   -------------------- ------------------- 6.0/11.6 MB 1.2 MB/s eta 0:00:05\n",
            "   --------------------- ------------------ 6.3/11.6 MB 1.2 MB/s eta 0:00:05\n",
            "   ---------------------- ----------------- 6.6/11.6 MB 1.2 MB/s eta 0:00:05\n",
            "   ------------------------ --------------- 7.1/11.6 MB 1.3 MB/s eta 0:00:04\n",
            "   ------------------------- -------------- 7.3/11.6 MB 1.3 MB/s eta 0:00:04\n",
            "   ---------------------------- ----------- 8.1/11.6 MB 1.3 MB/s eta 0:00:03\n",
            "   ---------------------------- ----------- 8.4/11.6 MB 1.3 MB/s eta 0:00:03\n",
            "   ------------------------------- -------- 9.2/11.6 MB 1.4 MB/s eta 0:00:02\n",
            "   ---------------------------------- ----- 10.0/11.6 MB 1.5 MB/s eta 0:00:02\n",
            "   ------------------------------------- -- 10.7/11.6 MB 1.5 MB/s eta 0:00:01\n",
            "   -------------------------------------- - 11.3/11.6 MB 1.6 MB/s eta 0:00:01\n",
            "   ---------------------------------------- 11.6/11.6 MB 1.6 MB/s eta 0:00:00\n",
            "Downloading matplotlib-3.10.1-cp310-cp310-win_amd64.whl (8.1 MB)\n",
            "   ---------------------------------------- 0.0/8.1 MB ? eta -:--:--\n",
            "   -- ------------------------------------- 0.5/8.1 MB 2.4 MB/s eta 0:00:04\n",
            "   --- ------------------------------------ 0.8/8.1 MB 2.0 MB/s eta 0:00:04\n",
            "   ------ --------------------------------- 1.3/8.1 MB 2.0 MB/s eta 0:00:04\n",
            "   --------- ------------------------------ 1.8/8.1 MB 2.3 MB/s eta 0:00:03\n",
            "   --------- ------------------------------ 1.8/8.1 MB 2.3 MB/s eta 0:00:03\n",
            "   ----------- ---------------------------- 2.4/8.1 MB 1.8 MB/s eta 0:00:04\n",
            "   --------------- ------------------------ 3.1/8.1 MB 2.1 MB/s eta 0:00:03\n",
            "   ---------------- ----------------------- 3.4/8.1 MB 2.1 MB/s eta 0:00:03\n",
            "   ---------------- ----------------------- 3.4/8.1 MB 2.1 MB/s eta 0:00:03\n",
            "   ------------------ --------------------- 3.7/8.1 MB 1.7 MB/s eta 0:00:03\n",
            "   -------------------- ------------------- 4.2/8.1 MB 1.9 MB/s eta 0:00:03\n",
            "   -------------------- ------------------- 4.2/8.1 MB 1.9 MB/s eta 0:00:03\n",
            "   ----------------------- ---------------- 4.7/8.1 MB 1.7 MB/s eta 0:00:02\n",
            "   -------------------------- ------------- 5.2/8.1 MB 1.7 MB/s eta 0:00:02\n",
            "   --------------------------- ------------ 5.5/8.1 MB 1.7 MB/s eta 0:00:02\n",
            "   ----------------------------- ---------- 6.0/8.1 MB 1.7 MB/s eta 0:00:02\n",
            "   ----------------------------- ---------- 6.0/8.1 MB 1.7 MB/s eta 0:00:02\n",
            "   ----------------------------------- ---- 7.1/8.1 MB 1.8 MB/s eta 0:00:01\n",
            "   ------------------------------------- -- 7.6/8.1 MB 1.9 MB/s eta 0:00:01\n",
            "   ---------------------------------------- 8.1/8.1 MB 1.9 MB/s eta 0:00:00\n",
            "Using cached seaborn-0.13.2-py3-none-any.whl (294 kB)\n",
            "Downloading faker-37.1.0-py3-none-any.whl (1.9 MB)\n",
            "   ---------------------------------------- 0.0/1.9 MB ? eta -:--:--\n",
            "   ----- ---------------------------------- 0.3/1.9 MB ? eta -:--:--\n",
            "   ---------------- ----------------------- 0.8/1.9 MB 2.4 MB/s eta 0:00:01\n",
            "   --------------------------- ------------ 1.3/1.9 MB 2.6 MB/s eta 0:00:01\n",
            "   ---------------------------------------- 1.9/1.9 MB 2.4 MB/s eta 0:00:00\n",
            "Downloading psycopg2_binary-2.9.10-cp310-cp310-win_amd64.whl (1.2 MB)\n",
            "   ---------------------------------------- 0.0/1.2 MB ? eta -:--:--\n",
            "   --------- ------------------------------ 0.3/1.2 MB ? eta -:--:--\n",
            "   ------------------------------------ --- 1.0/1.2 MB 2.4 MB/s eta 0:00:01\n",
            "   ---------------------------------------- 1.2/1.2 MB 2.4 MB/s eta 0:00:00\n",
            "Using cached neo4j-5.28.1-py3-none-any.whl (312 kB)\n",
            "Using cached redis-5.2.1-py3-none-any.whl (261 kB)\n",
            "Using cached boto3-1.37.18-py3-none-any.whl (139 kB)\n",
            "Downloading async_timeout-5.0.1-py3-none-any.whl (6.2 kB)\n",
            "Using cached botocore-1.37.18-py3-none-any.whl (13.4 MB)\n",
            "Downloading contourpy-1.3.1-cp310-cp310-win_amd64.whl (218 kB)\n",
            "Using cached cycler-0.12.1-py3-none-any.whl (8.3 kB)\n",
            "Downloading fonttools-4.56.0-cp310-cp310-win_amd64.whl (2.2 MB)\n",
            "   ---------------------------------------- 0.0/2.2 MB ? eta -:--:--\n",
            "   --------- ------------------------------ 0.5/2.2 MB 3.4 MB/s eta 0:00:01\n",
            "   -------------- ------------------------- 0.8/2.2 MB 2.2 MB/s eta 0:00:01\n",
            "   ----------------------- ---------------- 1.3/2.2 MB 2.4 MB/s eta 0:00:01\n",
            "   ---------------------------- ----------- 1.6/2.2 MB 2.3 MB/s eta 0:00:01\n",
            "   --------------------------------- ------ 1.8/2.2 MB 1.7 MB/s eta 0:00:01\n",
            "   ---------------------------------------- 2.2/2.2 MB 1.9 MB/s eta 0:00:00\n",
            "Using cached jmespath-1.0.1-py3-none-any.whl (20 kB)\n",
            "Downloading kiwisolver-1.4.8-cp310-cp310-win_amd64.whl (71 kB)\n",
            "Downloading pillow-11.1.0-cp310-cp310-win_amd64.whl (2.6 MB)\n",
            "   ---------------------------------------- 0.0/2.6 MB ? eta -:--:--\n",
            "   --- ------------------------------------ 0.3/2.6 MB ? eta -:--:--\n",
            "   ----------- ---------------------------- 0.8/2.6 MB 2.1 MB/s eta 0:00:01\n",
            "   ------------------- -------------------- 1.3/2.6 MB 2.1 MB/s eta 0:00:01\n",
            "   ----------------------- ---------------- 1.6/2.6 MB 2.0 MB/s eta 0:00:01\n",
            "   ------------------------------- -------- 2.1/2.6 MB 2.0 MB/s eta 0:00:01\n",
            "   ----------------------------------- ---- 2.4/2.6 MB 1.9 MB/s eta 0:00:01\n",
            "   ---------------------------------------- 2.6/2.6 MB 2.0 MB/s eta 0:00:00\n",
            "Downloading pyparsing-3.2.2-py3-none-any.whl (111 kB)\n",
            "Using cached pytz-2025.1-py2.py3-none-any.whl (507 kB)\n",
            "Using cached s3transfer-0.11.4-py3-none-any.whl (84 kB)\n",
            "Downloading tzdata-2025.2-py2.py3-none-any.whl (347 kB)\n",
            "Installing collected packages: pytz, tzdata, pyparsing, psycopg2-binary, pillow, neo4j, kiwisolver, jmespath, fonttools, cycler, contourpy, async-timeout, redis, pandas, matplotlib, faker, botocore, seaborn, s3transfer, boto3\n",
            "Successfully installed async-timeout-5.0.1 boto3-1.37.18 botocore-1.37.18 contourpy-1.3.1 cycler-0.12.1 faker-37.1.0 fonttools-4.56.0 jmespath-1.0.1 kiwisolver-1.4.8 matplotlib-3.10.1 neo4j-5.28.1 pandas-2.2.3 pillow-11.1.0 psycopg2-binary-2.9.10 pyparsing-3.2.2 pytz-2025.1 redis-5.2.1 s3transfer-0.11.4 seaborn-0.13.2 tzdata-2025.2\n",
            "Note: you may need to restart the kernel to use updated packages.\n",
            "Collecting cassandra-driver\n",
            "  Downloading cassandra-driver-3.29.2.tar.gz (293 kB)\n",
            "  Preparing metadata (setup.py): started\n",
            "  Preparing metadata (setup.py): finished with status 'done'\n",
            "Collecting geomet<0.3,>=0.1 (from cassandra-driver)\n",
            "  Using cached geomet-0.2.1.post1-py3-none-any.whl.metadata (1.0 kB)\n",
            "Collecting click (from geomet<0.3,>=0.1->cassandra-driver)\n",
            "  Using cached click-8.1.8-py3-none-any.whl.metadata (2.3 kB)\n",
            "Requirement already satisfied: six in c:\\users\\nolan\\anaconda3\\envs\\nolan_env\\lib\\site-packages (from geomet<0.3,>=0.1->cassandra-driver) (1.17.0)\n",
            "Requirement already satisfied: colorama in c:\\users\\nolan\\anaconda3\\envs\\nolan_env\\lib\\site-packages (from click->geomet<0.3,>=0.1->cassandra-driver) (0.4.6)\n",
            "Using cached geomet-0.2.1.post1-py3-none-any.whl (18 kB)\n",
            "Using cached click-8.1.8-py3-none-any.whl (98 kB)\n",
            "Building wheels for collected packages: cassandra-driver\n",
            "  Building wheel for cassandra-driver (setup.py): started\n",
            "  Building wheel for cassandra-driver (setup.py): finished with status 'done'\n",
            "  Created wheel for cassandra-driver: filename=cassandra_driver-3.29.2-cp310-cp310-win_amd64.whl size=333159 sha256=13245dd1aae34230b4b27f73b99490da20061f83049e04fc48660554331af41e\n",
            "  Stored in directory: c:\\users\\nolan\\appdata\\local\\pip\\cache\\wheels\\e7\\64\\a2\\3ff252e66aa0012aa6995cde613e58295632822aedda6f784d\n",
            "Successfully built cassandra-driver\n",
            "Installing collected packages: click, geomet, cassandra-driver\n",
            "Successfully installed cassandra-driver-3.29.2 click-8.1.8 geomet-0.2.1.post1\n",
            "Note: you may need to restart the kernel to use updated packages.\n"
          ]
        }
      ],
      "source": [
        "# Install required libraries\n",
        "%pip install requests pandas matplotlib seaborn faker psycopg2-binary neo4j redis boto3\n",
        "%pip install cassandra-driver --no-binary cassandra-driver\n"
      ]
    },
    {
      "cell_type": "code",
      "execution_count": 2,
      "id": "aa6f4af8",
      "metadata": {},
      "outputs": [],
      "source": [
        "# Import libraries\n",
        "import requests\n",
        "import pandas as pd\n",
        "import matplotlib.pyplot as plt\n",
        "import seaborn as sns\n",
        "from faker import Faker\n",
        "import time\n",
        "import psycopg2\n",
        "from cassandra.cluster import Cluster\n",
        "from neo4j import GraphDatabase\n",
        "import redis\n",
        "import boto3\n",
        "\n",
        "fake = Faker()"
      ]
    },
    {
      "cell_type": "markdown",
      "id": "2e290a0a",
      "metadata": {},
      "source": [
        "## Backend setup (Terminal)\n",
        "\n",
        "```bash\n",
        "npm run start:dev\n",
        "```"
      ]
    },
    {
      "cell_type": "code",
      "execution_count": 3,
      "id": "44a26338",
      "metadata": {},
      "outputs": [],
      "source": [
        "# API Base URL\n",
        "API_BASE = \"http://localhost:3000\""
      ]
    },
    {
      "cell_type": "markdown",
      "id": "ff69bc02",
      "metadata": {},
      "source": [
        "## Database Settings"
      ]
    },
    {
      "cell_type": "code",
      "execution_count": 4,
      "id": "020d2e5a",
      "metadata": {},
      "outputs": [],
      "source": [
        "# Database configurations\n",
        "POSTGRES_SETTINGS = {'host':'localhost', 'port':5432, 'user':'postgres','password':'postgres','database':'mydb'}\n",
        "CASSANDRA_SETTINGS = {'host':['127.0.0.1'],'port':9042}\n",
        "NEO4J_SETTINGS = {'uri':'bolt://localhost:7687','user':'neo4j','password':'neo4j'}\n",
        "REDIS_SETTINGS = {'host':'localhost','port':6379,'db':0}\n",
        "STORAGE_SETTINGS = {'endpoint':'http://localhost:9000','access_key':'minioadmin','secret_key':'minioadmin','bucket':'uploads'}"
      ]
    },
    {
      "cell_type": "markdown",
      "id": "3b145fd4",
      "metadata": {},
      "source": [
        "# Verifying database connections"
      ]
    },
    {
      "cell_type": "code",
      "execution_count": 5,
      "id": "9e0fc26a",
      "metadata": {},
      "outputs": [
        {
          "name": "stdout",
          "output_type": "stream",
          "text": [
            "PostgreSQL Users: 302\n"
          ]
        },
        {
          "ename": "NoHostAvailable",
          "evalue": "('Unable to connect to any servers', {'127.0.0.1:9042': ConnectionRefusedError(10061, \"Tried connecting to [('127.0.0.1', 9042)]. Last error: Aucune connexion n’a pu être établie car l’ordinateur cible l’a expressément refusée\")})",
          "output_type": "error",
          "traceback": [
            "\u001b[1;31m---------------------------------------------------------------------------\u001b[0m",
            "\u001b[1;31mNoHostAvailable\u001b[0m                           Traceback (most recent call last)",
            "Cell \u001b[1;32mIn[5], line 11\u001b[0m\n\u001b[0;32m      9\u001b[0m \u001b[38;5;66;03m# Cassandra Check\u001b[39;00m\n\u001b[0;32m     10\u001b[0m cluster_cass\u001b[38;5;241m=\u001b[39mCluster(CASSANDRA_SETTINGS[\u001b[38;5;124m'\u001b[39m\u001b[38;5;124mhost\u001b[39m\u001b[38;5;124m'\u001b[39m],port\u001b[38;5;241m=\u001b[39mCASSANDRA_SETTINGS[\u001b[38;5;124m'\u001b[39m\u001b[38;5;124mport\u001b[39m\u001b[38;5;124m'\u001b[39m])\n\u001b[1;32m---> 11\u001b[0m session_cass\u001b[38;5;241m=\u001b[39m\u001b[43mcluster_cass\u001b[49m\u001b[38;5;241;43m.\u001b[39;49m\u001b[43mconnect\u001b[49m\u001b[43m(\u001b[49m\u001b[38;5;124;43m'\u001b[39;49m\u001b[38;5;124;43msummer_trip\u001b[39;49m\u001b[38;5;124;43m'\u001b[39;49m\u001b[43m)\u001b[49m\n\u001b[0;32m     12\u001b[0m rows\u001b[38;5;241m=\u001b[39msession_cass\u001b[38;5;241m.\u001b[39mexecute(\u001b[38;5;124m'\u001b[39m\u001b[38;5;124mSELECT COUNT(*) FROM messages;\u001b[39m\u001b[38;5;124m'\u001b[39m)\n\u001b[0;32m     13\u001b[0m \u001b[38;5;28mprint\u001b[39m(\u001b[38;5;124m'\u001b[39m\u001b[38;5;124mCassandra Messages:\u001b[39m\u001b[38;5;124m'\u001b[39m,rows\u001b[38;5;241m.\u001b[39mone()[\u001b[38;5;241m0\u001b[39m])\n",
            "File \u001b[1;32mc:\\Users\\nolan\\anaconda3\\envs\\nolan_env\\lib\\site-packages\\cassandra\\cluster.py:1740\u001b[0m, in \u001b[0;36mCluster.connect\u001b[1;34m(self, keyspace, wait_for_all_pools)\u001b[0m\n\u001b[0;32m   1735\u001b[0m \u001b[38;5;28mself\u001b[39m\u001b[38;5;241m.\u001b[39mload_balancing_policy\u001b[38;5;241m.\u001b[39mpopulate(\n\u001b[0;32m   1736\u001b[0m     weakref\u001b[38;5;241m.\u001b[39mproxy(\u001b[38;5;28mself\u001b[39m), \u001b[38;5;28mself\u001b[39m\u001b[38;5;241m.\u001b[39mmetadata\u001b[38;5;241m.\u001b[39mall_hosts()\n\u001b[0;32m   1737\u001b[0m )\n\u001b[0;32m   1739\u001b[0m \u001b[38;5;28;01mtry\u001b[39;00m:\n\u001b[1;32m-> 1740\u001b[0m     \u001b[38;5;28;43mself\u001b[39;49m\u001b[38;5;241;43m.\u001b[39;49m\u001b[43mcontrol_connection\u001b[49m\u001b[38;5;241;43m.\u001b[39;49m\u001b[43mconnect\u001b[49m\u001b[43m(\u001b[49m\u001b[43m)\u001b[49m\n\u001b[0;32m   1742\u001b[0m     \u001b[38;5;66;03m# we set all contact points up for connecting, but we won't infer state after this\u001b[39;00m\n\u001b[0;32m   1743\u001b[0m     \u001b[38;5;28;01mfor\u001b[39;00m endpoint \u001b[38;5;129;01min\u001b[39;00m \u001b[38;5;28mself\u001b[39m\u001b[38;5;241m.\u001b[39mendpoints_resolved:\n",
            "File \u001b[1;32mc:\\Users\\nolan\\anaconda3\\envs\\nolan_env\\lib\\site-packages\\cassandra\\cluster.py:3543\u001b[0m, in \u001b[0;36mControlConnection.connect\u001b[1;34m(self)\u001b[0m\n\u001b[0;32m   3540\u001b[0m     \u001b[38;5;28;01mreturn\u001b[39;00m\n\u001b[0;32m   3542\u001b[0m \u001b[38;5;28mself\u001b[39m\u001b[38;5;241m.\u001b[39m_protocol_version \u001b[38;5;241m=\u001b[39m \u001b[38;5;28mself\u001b[39m\u001b[38;5;241m.\u001b[39m_cluster\u001b[38;5;241m.\u001b[39mprotocol_version\n\u001b[1;32m-> 3543\u001b[0m \u001b[38;5;28mself\u001b[39m\u001b[38;5;241m.\u001b[39m_set_new_connection(\u001b[38;5;28;43mself\u001b[39;49m\u001b[38;5;241;43m.\u001b[39;49m\u001b[43m_reconnect_internal\u001b[49m\u001b[43m(\u001b[49m\u001b[43m)\u001b[49m)\n\u001b[0;32m   3545\u001b[0m \u001b[38;5;28mself\u001b[39m\u001b[38;5;241m.\u001b[39m_cluster\u001b[38;5;241m.\u001b[39mmetadata\u001b[38;5;241m.\u001b[39mdbaas \u001b[38;5;241m=\u001b[39m \u001b[38;5;28mself\u001b[39m\u001b[38;5;241m.\u001b[39m_connection\u001b[38;5;241m.\u001b[39m_product_type \u001b[38;5;241m==\u001b[39m dscloud\u001b[38;5;241m.\u001b[39mDATASTAX_CLOUD_PRODUCT_TYPE\n",
            "File \u001b[1;32mc:\\Users\\nolan\\anaconda3\\envs\\nolan_env\\lib\\site-packages\\cassandra\\cluster.py:3588\u001b[0m, in \u001b[0;36mControlConnection._reconnect_internal\u001b[1;34m(self)\u001b[0m\n\u001b[0;32m   3585\u001b[0m     \u001b[38;5;28;01mif\u001b[39;00m \u001b[38;5;28mself\u001b[39m\u001b[38;5;241m.\u001b[39m_is_shutdown:\n\u001b[0;32m   3586\u001b[0m         \u001b[38;5;28;01mraise\u001b[39;00m DriverException(\u001b[38;5;124m\"\u001b[39m\u001b[38;5;124m[control connection] Reconnection in progress during shutdown\u001b[39m\u001b[38;5;124m\"\u001b[39m)\n\u001b[1;32m-> 3588\u001b[0m \u001b[38;5;28;01mraise\u001b[39;00m NoHostAvailable(\u001b[38;5;124m\"\u001b[39m\u001b[38;5;124mUnable to connect to any servers\u001b[39m\u001b[38;5;124m\"\u001b[39m, errors)\n",
            "\u001b[1;31mNoHostAvailable\u001b[0m: ('Unable to connect to any servers', {'127.0.0.1:9042': ConnectionRefusedError(10061, \"Tried connecting to [('127.0.0.1', 9042)]. Last error: Aucune connexion n’a pu être établie car l’ordinateur cible l’a expressément refusée\")})"
          ]
        }
      ],
      "source": [
        "# PostgreSQL Check\n",
        "conn_pg=psycopg2.connect(**POSTGRES_SETTINGS)\n",
        "cur_pg=conn_pg.cursor()\n",
        "cur_pg.execute('SELECT COUNT(*) FROM \"user\";')\n",
        "print('PostgreSQL Users:', cur_pg.fetchone()[0])\n",
        "cur_pg.close()\n",
        "conn_pg.close()\n",
        "\n",
        "# Cassandra Check\n",
        "cluster_cass=Cluster(CASSANDRA_SETTINGS['host'],port=CASSANDRA_SETTINGS['port'])\n",
        "session_cass=cluster_cass.connect('summer_trip')\n",
        "rows=session_cass.execute('SELECT COUNT(*) FROM messages;')\n",
        "print('Cassandra Messages:',rows.one()[0])\n",
        "\n",
        "# Redis Check\n",
        "redis_client=redis.Redis(**REDIS_SETTINGS)\n",
        "redis_client.set('test','Redis OK')\n",
        "print('Redis Check:',redis_client.get('test'))\n",
        "\n",
        "# Neo4j Check\n",
        "driver_neo4j=GraphDatabase.driver(**NEO4J_SETTINGS)\n",
        "with driver_neo4j.session() as session:\n",
        "    result=session.run('MATCH (n) RETURN COUNT(n) AS count')\n",
        "    print('Neo4j Nodes:',result.single()['count'])\n",
        "\n",
        "driver_neo4j.close()\n",
        "\n",
        "# Storage Check\n",
        "s3_client=boto3.client('s3',endpoint_url=STORAGE_SETTINGS['endpoint'],aws_access_key_id=STORAGE_SETTINGS['access_key'],aws_secret_access_key=STORAGE_SETTINGS['secret_key'])\n",
        "s3_client.put_object(Bucket=STORAGE_SETTINGS['bucket'],Key='test.txt',Body=b'Test file')\n",
        "response=s3_client.get_object(Bucket=STORAGE_SETTINGS['bucket'],Key='test.txt')\n",
        "print('Storage Bucket Content:',response['Body'].read().decode())"
      ]
    },
    {
      "cell_type": "markdown",
      "id": "e6b85bd3",
      "metadata": {},
      "source": [
        "## Performance Testing (PostgreSQL example)"
      ]
    },
    {
      "cell_type": "code",
      "execution_count": null,
      "id": "a0fa6f33",
      "metadata": {},
      "outputs": [],
      "source": [
        "# PostgreSQL GET performance\n",
        "times=[]\n",
        "for _ in range(100):\n",
        "    start=time.time()\n",
        "    requests.get(f'{API_BASE}/users')\n",
        "    times.append(time.time()-start)\n",
        "\n",
        "sns.histplot(times,kde=True)\n",
        "plt.title('PostgreSQL Response Time')\n",
        "plt.xlabel('Seconds')\n",
        "plt.ylabel('Frequency')\n",
        "plt.show()"
      ]
    },
    {
      "cell_type": "markdown",
      "id": "e6b85bd3",
      "metadata": {},
      "source": [
        "## Performance Testing (Cassandra example)"
      ]
    },
    {
      "cell_type": "code",
      "execution_count": null,
      "id": "a0fa6f34",
      "metadata": {},
      "outputs": [],
      "source": [
        "# Cassandra GET performance\n",
        "times=[]\n",
        "for _ in range(100):\n",
        "    start=time.time()\n",
        "    requests.get(f'{API_BASE}/messages')\n",
        "    times.append(time.time()-start)\n",
        "\n",
        "sns.histplot(times,kde=True)\n",
        "plt.title('Cassandra Response Time')\n",
        "plt.xlabel('Seconds')\n",
        "plt.ylabel('Frequency')\n",
        "plt.show()"
      ]
    },
    {
      "cell_type": "markdown",
      "id": "e6b85bd3",
      "metadata": {},
      "source": [
        "## Performance Testing (Redis example)"
      ]
    },
    {
      "cell_type": "code",
      "execution_count": null,
      "id": "a0fa6f35",
      "metadata": {},
      "outputs": [],
      "source": [
        "# Redis GET performance\n",
        "times=[]\n",
        "for _ in range(100):\n",
        "    start=time.time()\n",
        "    requests.get(f'{API_BASE}/cache')\n",
        "    times.append(time.time()-start)\n",
        "\n",
        "sns.histplot(times,kde=True)\n",
        "plt.title('Redis Response Time')\n",
        "plt.xlabel('Seconds')\n",
        "plt.ylabel('Frequency')\n",
        "plt.show()"
      ]
    },
    {
      "cell_type": "markdown",
      "id": "e6b85bd3",
      "metadata": {},
      "source": [
        "## Performance Testing (Neo4j example)"
      ]
    },
    {
      "cell_type": "code",
      "execution_count": null,
      "id": "a0fa6f36",
      "metadata": {},
      "outputs": [],
      "source": [
        "# Neo4j GET performance\n",
        "times=[]\n",
        "for _ in range(100):\n",
        "    start=time.time()\n",
        "    requests.get(f'{API_BASE}/relationships')\n",
        "    times.append(time.time()-start)\n",
        "\n",
        "sns.histplot(times,kde=True)\n",
        "plt.title('Neo4j Response Time')\n",
        "plt.xlabel('Seconds')\n",
        "plt.ylabel('Frequency')\n",
        "plt.show()"
      ]
    },
    {
      "cell_type": "markdown",
      "id": "e6b85bd3",
      "metadata": {},
      "source": [
        "## Performance Testing (Storage example)"
      ]
    },
    {
      "cell_type": "code",
      "execution_count": null,
      "id": "a0fa6f37",
      "metadata": {},
      "outputs": [],
      "source": [
        "# Storage GET performance\n",
        "times=[]\n",
        "for _ in range(100):\n",
        "    start=time.time()\n",
        "    requests.get(f'{API_BASE}/files/test.txt')\n",
        "    times.append(time.time()-start)\n",
        "\n",
        "sns.histplot(times,kde=True)\n",
        "plt.title('Storage Response Time')\n",
        "plt.xlabel('Seconds')\n",
        "plt.ylabel('Frequency')\n",
        "plt.show()"
      ]
    },
    {
      "cell_type": "markdown",
      "id": "b224b892",
      "metadata": {},
      "source": [
        "## Fake Data Generation (Cassandra example)"
      ]
    },
    {
      "cell_type": "code",
      "execution_count": null,
      "id": "34e7272e",
      "metadata": {},
      "outputs": [],
      "source": [
        "# Add fake messages\n",
        "for _ in range(50):\n",
        "    requests.post(f'{API_BASE}/messages',json={\n",
        "        'sender_id':fake.uuid4(),\n",
        "        'receiver_id':fake.uuid4(),\n",
        "        'content':fake.text()\n",
        "    })\n",
        "print('Added 50 messages.')"
      ]
    },
    {
      "cell_type": "markdown",
      "id": "b224b892",
      "metadata": {},
      "source": [
        "## Fake Data Generation (Redis example)"
      ]
    },
    {
      "cell_type": "code",
      "execution_count": null,
      "id": "34e7272f",
      "metadata": {},
      "outputs": [],
      "source": [
        "# Add fake cache entries\n",
        "for _ in range(50):\n",
        "    requests.post(f'{API_BASE}/cache',json={\n",
        "        'key':fake.uuid4(),\n",
        "        'value':fake.text()\n",
        "    })\n",
        "print('Added 50 cache entries.')"
      ]
    },
    {
      "cell_type": "markdown",
      "id": "b224b892",
      "metadata": {},
      "source": [
        "## Fake Data Generation (Neo4j example)"
      ]
    },
    {
      "cell_type": "code",
      "execution_count": null,
      "id": "34e72730",
      "metadata": {},
      "outputs": [],
      "source": [
        "# Add fake relationships\n",
        "for _ in range(50):\n",
        "    requests.post(f'{API_BASE}/relationships',json={\n",
        "        'user1_id':fake.uuid4(),\n",
        "        'user2_id':fake.uuid4(),\n",
        "        'type':fake.random_element(elements=('friend', 'colleague', 'family'))\n",
        "    })\n",
        "print('Added 50 relationships.')"
      ]
    },
    {
      "cell_type": "markdown",
      "id": "b224b892",
      "metadata": {},
      "source": [
        "## Fake Data Generation (Storage example)"
      ]
    },
    {
      "cell_type": "code",
      "execution_count": null,
      "id": "34e72731",
      "metadata": {},
      "outputs": [],
      "source": [
        "# Add fake files\n",
        "for _ in range(50):\n",
        "    requests.post(f'{API_BASE}/files',files={'file':('test.txt',fake.text())})\n",
        "print('Added 50 files.')"
      ]
    },
    {
      "cell_type": "markdown",
      "id": "10b10bd6",
      "metadata": {},
      "source": [
        "# Close all database connections after testing"
      ]
    },
    {
      "cell_type": "code",
      "execution_count": null,
      "id": "2e431ac2",
      "metadata": {},
      "outputs": [],
      "source": [
        "session_cass.shutdown()\n",
        "cluster_cass.shutdown()\n",
        "redis_client.close()"
      ]
    }
  ],
  "metadata": {
    "kernelspec": {
      "display_name": "nolan_env",
      "language": "python",
      "name": "python3"
    },
    "language_info": {
      "codemirror_mode": {
        "name": "ipython",
        "version": 3
      },
      "file_extension": ".py",
      "mimetype": "text/x-python",
      "name": "python",
      "nbconvert_exporter": "python",
      "pygments_lexer": "ipython3",
      "version": "3.10.16"
    }
  },
  "nbformat": 4,
  "nbformat_minor": 5
}
