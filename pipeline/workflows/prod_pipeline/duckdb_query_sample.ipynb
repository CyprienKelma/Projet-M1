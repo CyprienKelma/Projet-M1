{
 "cells": [
  {
   "cell_type": "markdown",
   "id": "95588238",
   "metadata": {},
   "source": [
    "### Exemples de query possible sur DuckDB pour de l'analyses\n",
    "\n",
    "#### Pour acceder aux données de DuckDB en local depuis le volume montée :\n",
    "kubectl apply -f jupyter-pod.yaml\n",
    "kubectl port-forward pod/jupyter-duckdb 8888:8888 -n airflow\n",
    "#### Pour choper le token :\n",
    "kubectl logs pod/jupyter-duckdb -n airflow"
   ]
  },
  {
   "cell_type": "code",
   "execution_count": 3,
   "id": "f17be108",
   "metadata": {},
   "outputs": [
    {
     "ename": "IOException",
     "evalue": "IO Error: Cannot open file \"/mnt/duckdb/analytics.duckdb\": No such file or directory",
     "output_type": "error",
     "traceback": [
      "\u001b[31m---------------------------------------------------------------------------\u001b[39m",
      "\u001b[31mIOException\u001b[39m                               Traceback (most recent call last)",
      "\u001b[36mCell\u001b[39m\u001b[36m \u001b[39m\u001b[32mIn[3]\u001b[39m\u001b[32m, line 4\u001b[39m\n\u001b[32m      1\u001b[39m \u001b[38;5;28;01mimport\u001b[39;00m\u001b[38;5;250m \u001b[39m\u001b[34;01mduckdb\u001b[39;00m\n\u001b[32m      3\u001b[39m \u001b[38;5;66;03m# Connexion au fichier DuckDB monté dans le pod\u001b[39;00m\n\u001b[32m----> \u001b[39m\u001b[32m4\u001b[39m conn = \u001b[43mduckdb\u001b[49m\u001b[43m.\u001b[49m\u001b[43mconnect\u001b[49m\u001b[43m(\u001b[49m\u001b[33;43m\"\u001b[39;49m\u001b[33;43m/mnt/duckdb/analytics.duckdb\u001b[39;49m\u001b[33;43m\"\u001b[39;49m\u001b[43m)\u001b[49m\n",
      "\u001b[31mIOException\u001b[39m: IO Error: Cannot open file \"/mnt/duckdb/analytics.duckdb\": No such file or directory"
     ]
    }
   ],
   "source": [
    "import duckdb\n",
    "\n",
    "# Connexion au fichier DuckDB monté dans le pod\n",
    "conn = duckdb.connect(\"/mnt/duckdb/analytics.duckdb\")"
   ]
  },
  {
   "cell_type": "code",
   "execution_count": null,
   "id": "1d5f8280",
   "metadata": {},
   "outputs": [],
   "source": [
    "# Liste des tables disponibles\n",
    "conn.sql(\"SHOW TABLES\").df()"
   ]
  },
  {
   "cell_type": "markdown",
   "id": "852014e0",
   "metadata": {},
   "source": [
    "1 — Afficher les 10 premières lignes de gold_notif_impact_per_day"
   ]
  },
  {
   "cell_type": "code",
   "execution_count": null,
   "id": "afc3880e",
   "metadata": {},
   "outputs": [],
   "source": [
    "conn.sql(\"SELECT * FROM gold_notif_impact_per_day LIMIT 10\").df()"
   ]
  },
  {
   "cell_type": "markdown",
   "id": "c4e70d0d",
   "metadata": {},
   "source": [
    "2 — Durée moyenne de session après notification"
   ]
  },
  {
   "cell_type": "code",
   "execution_count": null,
   "id": "463229f0",
   "metadata": {},
   "outputs": [],
   "source": [
    "conn.sql(\"\"\"\n",
    "    SELECT \n",
    "        notif_date, \n",
    "        AVG(time_spend_after_success) AS avg_time_spent\n",
    "    FROM gold_notif_impact_per_day\n",
    "    GROUP BY notif_date\n",
    "    ORDER BY notif_date DESC\n",
    "\"\"\").df()"
   ]
  },
  {
   "cell_type": "markdown",
   "id": "bd2b5d17",
   "metadata": {},
   "source": [
    "3) Top contenus de notifications les plus engageants"
   ]
  },
  {
   "cell_type": "code",
   "execution_count": null,
   "id": "4b63dce3",
   "metadata": {},
   "outputs": [],
   "source": [
    "conn.sql(\"\"\"\n",
    "    SELECT \n",
    "        content_notif,\n",
    "        COUNT(*) AS nb_notifs,\n",
    "        AVG(time_spend_after_success) AS avg_time\n",
    "    FROM gold_notif_impact_per_day\n",
    "    GROUP BY content_notif\n",
    "    ORDER BY avg_time DESC\n",
    "    LIMIT 10\n",
    "\"\"\").df()"
   ]
  },
  {
   "cell_type": "markdown",
   "id": "42a68046",
   "metadata": {},
   "source": [
    "4) Taux de succès de notifications"
   ]
  },
  {
   "cell_type": "code",
   "execution_count": null,
   "id": "c604c648",
   "metadata": {},
   "outputs": [],
   "source": [
    "conn.sql(\"\"\"\n",
    "    SELECT \n",
    "        notif_date,\n",
    "        SUM(CASE WHEN is_success THEN 1 ELSE 0 END) AS seen,\n",
    "        COUNT(*) AS total,\n",
    "        ROUND(100.0 * SUM(CASE WHEN is_success THEN 1 ELSE 0 END) / COUNT(*), 2) AS success_rate\n",
    "    FROM gold_notif_impact_per_day\n",
    "    GROUP BY notif_date\n",
    "    ORDER BY notif_date\n",
    "\"\"\").df()\n"
   ]
  }
 ],
 "metadata": {
  "kernelspec": {
   "display_name": ".venv",
   "language": "python",
   "name": "python3"
  },
  "language_info": {
   "codemirror_mode": {
    "name": "ipython",
    "version": 3
   },
   "file_extension": ".py",
   "mimetype": "text/x-python",
   "name": "python",
   "nbconvert_exporter": "python",
   "pygments_lexer": "ipython3",
   "version": "3.11.12"
  }
 },
 "nbformat": 4,
 "nbformat_minor": 5
}
