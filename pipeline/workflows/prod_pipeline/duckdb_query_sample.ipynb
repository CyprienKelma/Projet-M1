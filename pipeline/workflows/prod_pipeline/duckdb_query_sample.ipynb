{
 "cells": [
  {
   "cell_type": "markdown",
   "id": "95588238",
   "metadata": {},
   "source": [
    "### Exemples de query possible sur DuckDB pour de l'analyses\n",
    "\n",
    "#### Pour acceder aux données de DuckDB en local depuis le volume montée :\n",
    "kubectl apply -f jupyter-pod.yaml\n",
    "kubectl port-forward pod/jupyter-duckdb 8888:8888 -n airflow\n",
    "#### Pour choper le token :\n",
    "kubectl logs pod/jupyter-duckdb -n airflow"
   ]
  },
  {
   "cell_type": "code",
   "execution_count": 14,
   "id": "f17be108",
   "metadata": {},
   "outputs": [],
   "source": [
    "import duckdb\n",
    "\n",
    "# Connexion au fichier DuckDB monté dans le pod\n",
    "conn = duckdb.connect(\"analytics1.duckdb\")"
   ]
  },
  {
   "cell_type": "code",
   "execution_count": 15,
   "id": "1d5f8280",
   "metadata": {},
   "outputs": [
    {
     "data": {
      "text/html": [
       "<div>\n",
       "<style scoped>\n",
       "    .dataframe tbody tr th:only-of-type {\n",
       "        vertical-align: middle;\n",
       "    }\n",
       "\n",
       "    .dataframe tbody tr th {\n",
       "        vertical-align: top;\n",
       "    }\n",
       "\n",
       "    .dataframe thead th {\n",
       "        text-align: right;\n",
       "    }\n",
       "</style>\n",
       "<table border=\"1\" class=\"dataframe\">\n",
       "  <thead>\n",
       "    <tr style=\"text-align: right;\">\n",
       "      <th></th>\n",
       "      <th>name</th>\n",
       "    </tr>\n",
       "  </thead>\n",
       "  <tbody>\n",
       "    <tr>\n",
       "      <th>0</th>\n",
       "      <td>gold_notif_impact_per_day</td>\n",
       "    </tr>\n",
       "    <tr>\n",
       "      <th>1</th>\n",
       "      <td>gold_user_activity_per_day</td>\n",
       "    </tr>\n",
       "  </tbody>\n",
       "</table>\n",
       "</div>"
      ],
      "text/plain": [
       "                         name\n",
       "0   gold_notif_impact_per_day\n",
       "1  gold_user_activity_per_day"
      ]
     },
     "execution_count": 15,
     "metadata": {},
     "output_type": "execute_result"
    }
   ],
   "source": [
    "# Liste des tables disponibles\n",
    "conn.sql(\"SHOW TABLES\").df()"
   ]
  },
  {
   "cell_type": "markdown",
   "id": "852014e0",
   "metadata": {},
   "source": [
    "1) Afficher les 10 premières lignes de gold_notif_impact_per_day"
   ]
  },
  {
   "cell_type": "code",
   "execution_count": 16,
   "id": "afc3880e",
   "metadata": {},
   "outputs": [
    {
     "data": {
      "text/html": [
       "<div>\n",
       "<style scoped>\n",
       "    .dataframe tbody tr th:only-of-type {\n",
       "        vertical-align: middle;\n",
       "    }\n",
       "\n",
       "    .dataframe tbody tr th {\n",
       "        vertical-align: top;\n",
       "    }\n",
       "\n",
       "    .dataframe thead th {\n",
       "        text-align: right;\n",
       "    }\n",
       "</style>\n",
       "<table border=\"1\" class=\"dataframe\">\n",
       "  <thead>\n",
       "    <tr style=\"text-align: right;\">\n",
       "      <th></th>\n",
       "      <th>user_id</th>\n",
       "      <th>date</th>\n",
       "      <th>total_nbr_connexion</th>\n",
       "      <th>total_spend_time</th>\n",
       "      <th>total_message_send_this_day</th>\n",
       "      <th>total_money_spend</th>\n",
       "    </tr>\n",
       "  </thead>\n",
       "  <tbody>\n",
       "    <tr>\n",
       "      <th>0</th>\n",
       "      <td>001fd039-7272-4e18-a324-26122f82c8fc</td>\n",
       "      <td>2025-02-17</td>\n",
       "      <td>1.0</td>\n",
       "      <td>0 days 02:45:36.788000</td>\n",
       "      <td>0.0</td>\n",
       "      <td>0.0</td>\n",
       "    </tr>\n",
       "    <tr>\n",
       "      <th>1</th>\n",
       "      <td>001fd039-7272-4e18-a324-26122f82c8fc</td>\n",
       "      <td>2025-02-21</td>\n",
       "      <td>3.0</td>\n",
       "      <td>0 days 12:02:45.509000</td>\n",
       "      <td>0.0</td>\n",
       "      <td>0.0</td>\n",
       "    </tr>\n",
       "    <tr>\n",
       "      <th>2</th>\n",
       "      <td>001fd039-7272-4e18-a324-26122f82c8fc</td>\n",
       "      <td>2025-02-24</td>\n",
       "      <td>1.0</td>\n",
       "      <td>0 days 02:26:37.430000</td>\n",
       "      <td>0.0</td>\n",
       "      <td>0.0</td>\n",
       "    </tr>\n",
       "    <tr>\n",
       "      <th>3</th>\n",
       "      <td>001fd039-7272-4e18-a324-26122f82c8fc</td>\n",
       "      <td>2025-02-26</td>\n",
       "      <td>1.0</td>\n",
       "      <td>0 days 01:50:47.416000</td>\n",
       "      <td>0.0</td>\n",
       "      <td>0.0</td>\n",
       "    </tr>\n",
       "    <tr>\n",
       "      <th>4</th>\n",
       "      <td>001fd039-7272-4e18-a324-26122f82c8fc</td>\n",
       "      <td>2025-02-28</td>\n",
       "      <td>1.0</td>\n",
       "      <td>0 days 01:28:20.312000</td>\n",
       "      <td>0.0</td>\n",
       "      <td>0.0</td>\n",
       "    </tr>\n",
       "    <tr>\n",
       "      <th>5</th>\n",
       "      <td>001fd039-7272-4e18-a324-26122f82c8fc</td>\n",
       "      <td>2025-03-01</td>\n",
       "      <td>1.0</td>\n",
       "      <td>0 days 02:28:11.008000</td>\n",
       "      <td>0.0</td>\n",
       "      <td>0.0</td>\n",
       "    </tr>\n",
       "    <tr>\n",
       "      <th>6</th>\n",
       "      <td>001fd039-7272-4e18-a324-26122f82c8fc</td>\n",
       "      <td>2025-03-02</td>\n",
       "      <td>2.0</td>\n",
       "      <td>0 days 21:04:45.519000</td>\n",
       "      <td>0.0</td>\n",
       "      <td>0.0</td>\n",
       "    </tr>\n",
       "    <tr>\n",
       "      <th>7</th>\n",
       "      <td>001fd039-7272-4e18-a324-26122f82c8fc</td>\n",
       "      <td>2025-03-03</td>\n",
       "      <td>2.0</td>\n",
       "      <td>0 days 16:37:41.018000</td>\n",
       "      <td>0.0</td>\n",
       "      <td>0.0</td>\n",
       "    </tr>\n",
       "    <tr>\n",
       "      <th>8</th>\n",
       "      <td>001fd039-7272-4e18-a324-26122f82c8fc</td>\n",
       "      <td>2025-03-04</td>\n",
       "      <td>1.0</td>\n",
       "      <td>0 days 01:55:41.956000</td>\n",
       "      <td>0.0</td>\n",
       "      <td>0.0</td>\n",
       "    </tr>\n",
       "    <tr>\n",
       "      <th>9</th>\n",
       "      <td>001fd039-7272-4e18-a324-26122f82c8fc</td>\n",
       "      <td>2025-03-05</td>\n",
       "      <td>1.0</td>\n",
       "      <td>0 days 01:50:39.148000</td>\n",
       "      <td>0.0</td>\n",
       "      <td>0.0</td>\n",
       "    </tr>\n",
       "  </tbody>\n",
       "</table>\n",
       "</div>"
      ],
      "text/plain": [
       "                                user_id       date  total_nbr_connexion  \\\n",
       "0  001fd039-7272-4e18-a324-26122f82c8fc 2025-02-17                  1.0   \n",
       "1  001fd039-7272-4e18-a324-26122f82c8fc 2025-02-21                  3.0   \n",
       "2  001fd039-7272-4e18-a324-26122f82c8fc 2025-02-24                  1.0   \n",
       "3  001fd039-7272-4e18-a324-26122f82c8fc 2025-02-26                  1.0   \n",
       "4  001fd039-7272-4e18-a324-26122f82c8fc 2025-02-28                  1.0   \n",
       "5  001fd039-7272-4e18-a324-26122f82c8fc 2025-03-01                  1.0   \n",
       "6  001fd039-7272-4e18-a324-26122f82c8fc 2025-03-02                  2.0   \n",
       "7  001fd039-7272-4e18-a324-26122f82c8fc 2025-03-03                  2.0   \n",
       "8  001fd039-7272-4e18-a324-26122f82c8fc 2025-03-04                  1.0   \n",
       "9  001fd039-7272-4e18-a324-26122f82c8fc 2025-03-05                  1.0   \n",
       "\n",
       "        total_spend_time  total_message_send_this_day  total_money_spend  \n",
       "0 0 days 02:45:36.788000                          0.0                0.0  \n",
       "1 0 days 12:02:45.509000                          0.0                0.0  \n",
       "2 0 days 02:26:37.430000                          0.0                0.0  \n",
       "3 0 days 01:50:47.416000                          0.0                0.0  \n",
       "4 0 days 01:28:20.312000                          0.0                0.0  \n",
       "5 0 days 02:28:11.008000                          0.0                0.0  \n",
       "6 0 days 21:04:45.519000                          0.0                0.0  \n",
       "7 0 days 16:37:41.018000                          0.0                0.0  \n",
       "8 0 days 01:55:41.956000                          0.0                0.0  \n",
       "9 0 days 01:50:39.148000                          0.0                0.0  "
      ]
     },
     "execution_count": 16,
     "metadata": {},
     "output_type": "execute_result"
    }
   ],
   "source": [
    "conn.sql(\"SELECT * FROM gold_user_activity_per_day LIMIT 10\").df()"
   ]
  },
  {
   "cell_type": "markdown",
   "id": "c4e70d0d",
   "metadata": {},
   "source": [
    "2) Durée moyenne de session après notification"
   ]
  },
  {
   "cell_type": "code",
   "execution_count": 17,
   "id": "463229f0",
   "metadata": {},
   "outputs": [
    {
     "data": {
      "text/html": [
       "<div>\n",
       "<style scoped>\n",
       "    .dataframe tbody tr th:only-of-type {\n",
       "        vertical-align: middle;\n",
       "    }\n",
       "\n",
       "    .dataframe tbody tr th {\n",
       "        vertical-align: top;\n",
       "    }\n",
       "\n",
       "    .dataframe thead th {\n",
       "        text-align: right;\n",
       "    }\n",
       "</style>\n",
       "<table border=\"1\" class=\"dataframe\">\n",
       "  <thead>\n",
       "    <tr style=\"text-align: right;\">\n",
       "      <th></th>\n",
       "      <th>notif_date</th>\n",
       "      <th>avg_time_spent_minutes</th>\n",
       "    </tr>\n",
       "  </thead>\n",
       "  <tbody>\n",
       "  </tbody>\n",
       "</table>\n",
       "</div>"
      ],
      "text/plain": [
       "Empty DataFrame\n",
       "Columns: [notif_date, avg_time_spent_minutes]\n",
       "Index: []"
      ]
     },
     "execution_count": 17,
     "metadata": {},
     "output_type": "execute_result"
    }
   ],
   "source": [
    "conn.sql(\"\"\"\n",
    "    SELECT \n",
    "        notif_date, \n",
    "        ROUND(AVG(EXTRACT(EPOCH FROM time_spend_after_success))/60, 2) AS avg_time_spent_minutes\n",
    "    FROM gold_notif_impact_per_day\n",
    "    GROUP BY notif_date\n",
    "    ORDER BY notif_date DESC\n",
    "\"\"\").df()"
   ]
  },
  {
   "cell_type": "markdown",
   "id": "bd2b5d17",
   "metadata": {},
   "source": [
    "3) Top contenus de notifications les plus engageants"
   ]
  },
  {
   "cell_type": "code",
   "execution_count": 18,
   "id": "4b63dce3",
   "metadata": {},
   "outputs": [
    {
     "data": {
      "text/html": [
       "<div>\n",
       "<style scoped>\n",
       "    .dataframe tbody tr th:only-of-type {\n",
       "        vertical-align: middle;\n",
       "    }\n",
       "\n",
       "    .dataframe tbody tr th {\n",
       "        vertical-align: top;\n",
       "    }\n",
       "\n",
       "    .dataframe thead th {\n",
       "        text-align: right;\n",
       "    }\n",
       "</style>\n",
       "<table border=\"1\" class=\"dataframe\">\n",
       "  <thead>\n",
       "    <tr style=\"text-align: right;\">\n",
       "      <th></th>\n",
       "      <th>content_notif</th>\n",
       "      <th>nb_notifs</th>\n",
       "      <th>avg_time_minutes</th>\n",
       "    </tr>\n",
       "  </thead>\n",
       "  <tbody>\n",
       "  </tbody>\n",
       "</table>\n",
       "</div>"
      ],
      "text/plain": [
       "Empty DataFrame\n",
       "Columns: [content_notif, nb_notifs, avg_time_minutes]\n",
       "Index: []"
      ]
     },
     "execution_count": 18,
     "metadata": {},
     "output_type": "execute_result"
    }
   ],
   "source": [
    "conn.sql(\"\"\"\n",
    "    SELECT \n",
    "        content_notif,\n",
    "        COUNT(*) AS nb_notifs,\n",
    "        ROUND(AVG(EXTRACT(EPOCH FROM time_spend_after_success))/60, 2) AS avg_time_minutes\n",
    "    FROM gold_notif_impact_per_day\n",
    "    GROUP BY content_notif\n",
    "    ORDER BY avg_time_minutes DESC\n",
    "    LIMIT 10\n",
    "\"\"\").df()"
   ]
  },
  {
   "cell_type": "markdown",
   "id": "42a68046",
   "metadata": {},
   "source": [
    "4) Taux de succès de notifications (notifications vues)"
   ]
  },
  {
   "cell_type": "code",
   "execution_count": 19,
   "id": "c604c648",
   "metadata": {},
   "outputs": [
    {
     "data": {
      "text/html": [
       "<div>\n",
       "<style scoped>\n",
       "    .dataframe tbody tr th:only-of-type {\n",
       "        vertical-align: middle;\n",
       "    }\n",
       "\n",
       "    .dataframe tbody tr th {\n",
       "        vertical-align: top;\n",
       "    }\n",
       "\n",
       "    .dataframe thead th {\n",
       "        text-align: right;\n",
       "    }\n",
       "</style>\n",
       "<table border=\"1\" class=\"dataframe\">\n",
       "  <thead>\n",
       "    <tr style=\"text-align: right;\">\n",
       "      <th></th>\n",
       "      <th>notif_date</th>\n",
       "      <th>seen</th>\n",
       "      <th>total</th>\n",
       "      <th>success_rate</th>\n",
       "    </tr>\n",
       "  </thead>\n",
       "  <tbody>\n",
       "  </tbody>\n",
       "</table>\n",
       "</div>"
      ],
      "text/plain": [
       "Empty DataFrame\n",
       "Columns: [notif_date, seen, total, success_rate]\n",
       "Index: []"
      ]
     },
     "execution_count": 19,
     "metadata": {},
     "output_type": "execute_result"
    }
   ],
   "source": [
    "conn.sql(\"\"\"\n",
    "    SELECT \n",
    "        notif_date,\n",
    "        SUM(CASE WHEN is_success THEN 1 ELSE 0 END) AS seen,\n",
    "        COUNT(*) AS total,\n",
    "        ROUND(100.0 * SUM(CASE WHEN is_success THEN 1 ELSE 0 END) / COUNT(*), 2) AS success_rate\n",
    "    FROM gold_notif_impact_per_day\n",
    "    GROUP BY notif_date\n",
    "    ORDER BY notif_date\n",
    "\"\"\").df()"
   ]
  },
  {
   "cell_type": "markdown",
   "id": "3078b3db",
   "metadata": {},
   "source": [
    "5) Sessions actives par jour et par utilisateur"
   ]
  },
  {
   "cell_type": "code",
   "execution_count": 20,
   "id": "bafeb462",
   "metadata": {},
   "outputs": [
    {
     "ename": "BinderException",
     "evalue": "Binder Error: Referenced column \"session_date\" not found in FROM clause!\nCandidate bindings: \"total_spend_time\", \"user_id\", \"total_message_send_this_day\", \"total_money_spend\"",
     "output_type": "error",
     "traceback": [
      "\u001b[31m---------------------------------------------------------------------------\u001b[39m",
      "\u001b[31mBinderException\u001b[39m                           Traceback (most recent call last)",
      "\u001b[36mCell\u001b[39m\u001b[36m \u001b[39m\u001b[32mIn[20]\u001b[39m\u001b[32m, line 1\u001b[39m\n\u001b[32m----> \u001b[39m\u001b[32m1\u001b[39m \u001b[43mconn\u001b[49m\u001b[43m.\u001b[49m\u001b[43msql\u001b[49m\u001b[43m(\u001b[49m\u001b[33;43m\"\"\"\u001b[39;49m\n\u001b[32m      2\u001b[39m \u001b[33;43m    SELECT \u001b[39;49m\n\u001b[32m      3\u001b[39m \u001b[33;43m        user_id,\u001b[39;49m\n\u001b[32m      4\u001b[39m \u001b[33;43m        session_date,\u001b[39;49m\n\u001b[32m      5\u001b[39m \u001b[33;43m        COUNT(*) AS nb_sessions\u001b[39;49m\n\u001b[32m      6\u001b[39m \u001b[33;43m    FROM gold_user_activity_per_day\u001b[39;49m\n\u001b[32m      7\u001b[39m \u001b[33;43m    GROUP BY user_id, session_date\u001b[39;49m\n\u001b[32m      8\u001b[39m \u001b[33;43m    ORDER BY session_date DESC, nb_sessions DESC\u001b[39;49m\n\u001b[32m      9\u001b[39m \u001b[33;43m\"\"\"\u001b[39;49m\u001b[43m)\u001b[49m.df()\n",
      "\u001b[31mBinderException\u001b[39m: Binder Error: Referenced column \"session_date\" not found in FROM clause!\nCandidate bindings: \"total_spend_time\", \"user_id\", \"total_message_send_this_day\", \"total_money_spend\""
     ]
    }
   ],
   "source": [
    "conn.sql(\"\"\"\n",
    "    SELECT \n",
    "        user_id,\n",
    "        session_date,\n",
    "        COUNT(*) AS nb_sessions\n",
    "    FROM gold_user_activity_per_day\n",
    "    GROUP BY user_id, session_date\n",
    "    ORDER BY session_date DESC, nb_sessions DESC\n",
    "\"\"\").df()"
   ]
  }
 ],
 "metadata": {
  "kernelspec": {
   "display_name": ".venv",
   "language": "python",
   "name": "python3"
  },
  "language_info": {
   "codemirror_mode": {
    "name": "ipython",
    "version": 3
   },
   "file_extension": ".py",
   "mimetype": "text/x-python",
   "name": "python",
   "nbconvert_exporter": "python",
   "pygments_lexer": "ipython3",
   "version": "3.11.12"
  }
 },
 "nbformat": 4,
 "nbformat_minor": 5
}
